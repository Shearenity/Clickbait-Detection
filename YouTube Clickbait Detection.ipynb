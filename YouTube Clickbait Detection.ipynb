{
  "nbformat": 4,
  "nbformat_minor": 0,
  "metadata": {
    "colab": {
      "provenance": []
    },
    "kernelspec": {
      "name": "python3",
      "display_name": "Python 3"
    },
    "language_info": {
      "name": "python"
    }
  },
  "cells": [
    {
      "cell_type": "code",
      "source": [
        "!pip install --upgrade scikit-learn\n",
        "!pip install openai"
      ],
      "metadata": {
        "colab": {
          "base_uri": "https://localhost:8080/"
        },
        "id": "UOK0H5Nki3QP",
        "outputId": "935abf43-c3b6-4e22-ec41-0f34bcb6102e"
      },
      "execution_count": 1,
      "outputs": [
        {
          "output_type": "stream",
          "name": "stdout",
          "text": [
            "Requirement already satisfied: scikit-learn in /usr/local/lib/python3.10/dist-packages (1.2.2)\n",
            "Collecting scikit-learn\n",
            "  Downloading scikit_learn-1.5.0-cp310-cp310-manylinux_2_17_x86_64.manylinux2014_x86_64.whl (13.3 MB)\n",
            "\u001b[2K     \u001b[90m━━━━━━━━━━━━━━━━━━━━━━━━━━━━━━━━━━━━━━━━\u001b[0m \u001b[32m13.3/13.3 MB\u001b[0m \u001b[31m37.6 MB/s\u001b[0m eta \u001b[36m0:00:00\u001b[0m\n",
            "\u001b[?25hRequirement already satisfied: numpy>=1.19.5 in /usr/local/lib/python3.10/dist-packages (from scikit-learn) (1.25.2)\n",
            "Requirement already satisfied: scipy>=1.6.0 in /usr/local/lib/python3.10/dist-packages (from scikit-learn) (1.11.4)\n",
            "Requirement already satisfied: joblib>=1.2.0 in /usr/local/lib/python3.10/dist-packages (from scikit-learn) (1.4.2)\n",
            "Requirement already satisfied: threadpoolctl>=3.1.0 in /usr/local/lib/python3.10/dist-packages (from scikit-learn) (3.5.0)\n",
            "Installing collected packages: scikit-learn\n",
            "  Attempting uninstall: scikit-learn\n",
            "    Found existing installation: scikit-learn 1.2.2\n",
            "    Uninstalling scikit-learn-1.2.2:\n",
            "      Successfully uninstalled scikit-learn-1.2.2\n",
            "Successfully installed scikit-learn-1.5.0\n",
            "Collecting openai\n",
            "  Downloading openai-1.35.7-py3-none-any.whl (327 kB)\n",
            "\u001b[2K     \u001b[90m━━━━━━━━━━━━━━━━━━━━━━━━━━━━━━━━━━━━━━━━\u001b[0m \u001b[32m327.5/327.5 kB\u001b[0m \u001b[31m5.4 MB/s\u001b[0m eta \u001b[36m0:00:00\u001b[0m\n",
            "\u001b[?25hRequirement already satisfied: anyio<5,>=3.5.0 in /usr/local/lib/python3.10/dist-packages (from openai) (3.7.1)\n",
            "Requirement already satisfied: distro<2,>=1.7.0 in /usr/lib/python3/dist-packages (from openai) (1.7.0)\n",
            "Collecting httpx<1,>=0.23.0 (from openai)\n",
            "  Downloading httpx-0.27.0-py3-none-any.whl (75 kB)\n",
            "\u001b[2K     \u001b[90m━━━━━━━━━━━━━━━━━━━━━━━━━━━━━━━━━━━━━━━━\u001b[0m \u001b[32m75.6/75.6 kB\u001b[0m \u001b[31m9.0 MB/s\u001b[0m eta \u001b[36m0:00:00\u001b[0m\n",
            "\u001b[?25hRequirement already satisfied: pydantic<3,>=1.9.0 in /usr/local/lib/python3.10/dist-packages (from openai) (2.7.4)\n",
            "Requirement already satisfied: sniffio in /usr/local/lib/python3.10/dist-packages (from openai) (1.3.1)\n",
            "Requirement already satisfied: tqdm>4 in /usr/local/lib/python3.10/dist-packages (from openai) (4.66.4)\n",
            "Requirement already satisfied: typing-extensions<5,>=4.7 in /usr/local/lib/python3.10/dist-packages (from openai) (4.12.2)\n",
            "Requirement already satisfied: idna>=2.8 in /usr/local/lib/python3.10/dist-packages (from anyio<5,>=3.5.0->openai) (3.7)\n",
            "Requirement already satisfied: exceptiongroup in /usr/local/lib/python3.10/dist-packages (from anyio<5,>=3.5.0->openai) (1.2.1)\n",
            "Requirement already satisfied: certifi in /usr/local/lib/python3.10/dist-packages (from httpx<1,>=0.23.0->openai) (2024.6.2)\n",
            "Collecting httpcore==1.* (from httpx<1,>=0.23.0->openai)\n",
            "  Downloading httpcore-1.0.5-py3-none-any.whl (77 kB)\n",
            "\u001b[2K     \u001b[90m━━━━━━━━━━━━━━━━━━━━━━━━━━━━━━━━━━━━━━━━\u001b[0m \u001b[32m77.9/77.9 kB\u001b[0m \u001b[31m8.0 MB/s\u001b[0m eta \u001b[36m0:00:00\u001b[0m\n",
            "\u001b[?25hCollecting h11<0.15,>=0.13 (from httpcore==1.*->httpx<1,>=0.23.0->openai)\n",
            "  Downloading h11-0.14.0-py3-none-any.whl (58 kB)\n",
            "\u001b[2K     \u001b[90m━━━━━━━━━━━━━━━━━━━━━━━━━━━━━━━━━━━━━━━━\u001b[0m \u001b[32m58.3/58.3 kB\u001b[0m \u001b[31m7.1 MB/s\u001b[0m eta \u001b[36m0:00:00\u001b[0m\n",
            "\u001b[?25hRequirement already satisfied: annotated-types>=0.4.0 in /usr/local/lib/python3.10/dist-packages (from pydantic<3,>=1.9.0->openai) (0.7.0)\n",
            "Requirement already satisfied: pydantic-core==2.18.4 in /usr/local/lib/python3.10/dist-packages (from pydantic<3,>=1.9.0->openai) (2.18.4)\n",
            "Installing collected packages: h11, httpcore, httpx, openai\n",
            "Successfully installed h11-0.14.0 httpcore-1.0.5 httpx-0.27.0 openai-1.35.7\n"
          ]
        }
      ]
    },
    {
      "cell_type": "code",
      "execution_count": 65,
      "metadata": {
        "id": "xWKzsVEdW-8E"
      },
      "outputs": [],
      "source": [
        "# Import Cells\n",
        "import pandas as pd\n",
        "import numpy as np\n",
        "import matplotlib.pyplot as plt\n",
        "import seaborn as sb\n",
        "import pickle\n",
        "import tensorflow as tf\n",
        "from tensorflow import keras\n",
        "from tensorflow.keras import layers\n",
        "from tensorflow.python.keras.layers import Dense, Flatten\n",
        "from tensorflow.keras.models import Sequential\n",
        "from tensorflow.keras.optimizers import Adam\n",
        "from tensorflow.keras.mixed_precision import set_global_policy\n",
        "from openai import OpenAI\n",
        "from sklearn import preprocessing\n",
        "from sklearn.ensemble import RandomForestClassifier\n",
        "from sklearn.linear_model import LogisticRegression\n",
        "from sklearn.naive_bayes import GaussianNB\n",
        "from sklearn.svm import SVC\n",
        "from sklearn.model_selection import train_test_split\n",
        "from sklearn.metrics import accuracy_score, confusion_matrix, classification_report\n",
        "from sklearn.model_selection import GridSearchCV, validation_curve"
      ]
    },
    {
      "cell_type": "code",
      "source": [
        "# Load Data and API Key\n",
        "data = pd.read_csv('Data.csv')\n",
        "data_init = pd.read_csv('Data.csv')\n",
        "with open('API_KEY.txt', \"r\") as f:\n",
        "    API_KEY = f.read().strip('\\n')\n",
        "    # print(API_KEY)"
      ],
      "metadata": {
        "id": "vPe1bFUiXKrc"
      },
      "execution_count": 3,
      "outputs": []
    },
    {
      "cell_type": "markdown",
      "source": [
        "# OpenAI ChatGPT Configuration"
      ],
      "metadata": {
        "id": "QlupOISSWLyZ"
      }
    },
    {
      "cell_type": "code",
      "source": [
        "# OpenAI Model\n",
        "\n",
        "client = OpenAI(\n",
        "    api_key=API_KEY\n",
        ")\n",
        "\n",
        "OpenAI_Model = 'gpt-3.5-turbo'\n",
        "Temperature_Model = 0.3\n",
        "Max_Tokens = 500"
      ],
      "metadata": {
        "id": "9xaJLrASUb6c"
      },
      "execution_count": 4,
      "outputs": []
    },
    {
      "cell_type": "markdown",
      "source": [
        "# OpenAI Functions"
      ],
      "metadata": {
        "id": "l1rv2BqR4qh7"
      }
    },
    {
      "cell_type": "code",
      "source": [
        "system_message1 = \"\"\"\n",
        "You are an avid YouTube watcher.\n",
        "You have watched many videos, and know which videos are clickbait and which are not.\n",
        "Your role today is to tell me information that a frequent YouTube watcher would know.\n",
        "\"\"\"\n",
        "\n",
        "system_message2 = \"\"\"\n",
        "You are a literature expert.\n",
        "You have read many books, read many sentences, and know a lot about sentence structure and similarities.\n",
        "Your role today is to give me a score of how similar two sentences are..\n",
        "\"\"\"\n",
        "\n",
        "def generatePrompt1(title, summary):\n",
        "  prompt1 = f\"\"\"\n",
        "  You watch many Youtube Videos. I will give you the title and the summarized transcript of a YouTube video.\n",
        "  I want you to judge whether the video is clickbait or not based on the title and the summarized transcript.\n",
        "  Your response should only be \"Yes\" or \"No\".\n",
        "  Incorrect Response: I think the video is a clickbait\n",
        "  Correct Response: Yes\n",
        "\n",
        "  The Title: {title}\n",
        "  The Transcript: {summary}\n",
        "  \"\"\"\n",
        "  return prompt1\n",
        "\n",
        "def generatePrompt2(summary):\n",
        "  prompt2 = f\"\"\"\n",
        "  I will give you the summarized transcript of a YouTube video.\n",
        "  I want you to try and guess what the title of the video is.\n",
        "  Your response should only be the title itself, and nothing else.\n",
        "  Incorrect Response: I think the video title is [Video title]\n",
        "  Correct Response: [Video title]\n",
        "\n",
        "  The transcript: {summary}\n",
        "  \"\"\"\n",
        "  return prompt2\n",
        "\n",
        "def generatePrompt3(sentence1, sentence2):\n",
        "  prompt3 = f\"\"\"\n",
        "  I'm going to give you two sentences.\n",
        "  You are to judge how similar these two sentences are with each other and rate them in percentage.\n",
        "  Your output should only be the percentage itself, and nothing else.\n",
        "  Incorrect output : I think the sentences are similar, and would rate them at around 80%\n",
        "  Correct output : 85%\n",
        "\n",
        "  Sentence 1: {sentence1}\n",
        "  Sentence 2: {sentence2}\n",
        "  \"\"\"\n",
        "  return prompt3\n",
        "\n",
        "print(generatePrompt3('Title1', 'Title2'))"
      ],
      "metadata": {
        "colab": {
          "base_uri": "https://localhost:8080/"
        },
        "id": "viXRyB1t4yfj",
        "outputId": "f00fd01d-2bb1-4836-96aa-24edb78c5a1d"
      },
      "execution_count": 5,
      "outputs": [
        {
          "output_type": "stream",
          "name": "stdout",
          "text": [
            "\n",
            "  I'm going to give you two sentences.\n",
            "  You are to judge how similar these two sentences are with each other and rate them in percentage.\n",
            "  Your output should only be the percentage itself, and nothing else.\n",
            "  Incorrect output : I think the sentences are similar, and would rate them at around 80%\n",
            "  Correct output : 85%\n",
            "\n",
            "  Sentence 1: Title1\n",
            "  Sentence 2: Title2\n",
            "  \n"
          ]
        }
      ]
    },
    {
      "cell_type": "code",
      "source": [
        "def Direct_Clickbait_Detection(title, summary):\n",
        "      completion = client.chat.completions.create(\n",
        "      model = OpenAI_Model,\n",
        "      temperature=Temperature_Model,\n",
        "      max_tokens=Max_Tokens,\n",
        "      messages=[\n",
        "          {'role' : 'system', 'content' : system_message1},\n",
        "          {'role' : 'user', 'content' : generatePrompt1(title, summary)}\n",
        "        ]\n",
        "      )\n",
        "      return completion.choices[0].message.content\n",
        "\n",
        "def Title_Predictor(summary):\n",
        "      completion = client.chat.completions.create(\n",
        "      model = OpenAI_Model,\n",
        "      temperature=Temperature_Model,\n",
        "      max_tokens=Max_Tokens,\n",
        "      messages=[\n",
        "          {'role' : 'system', 'content' : system_message1},\n",
        "          {'role' : 'user', 'content' : generatePrompt2(summary)}\n",
        "        ]\n",
        "      )\n",
        "      return completion.choices[0].message.content\n",
        "\n",
        "def Sentence_Similarity(title1, title2):\n",
        "      completion = client.chat.completions.create(\n",
        "      model = OpenAI_Model,\n",
        "      temperature=Temperature_Model,\n",
        "      max_tokens=Max_Tokens,\n",
        "      messages=[\n",
        "          {'role' : 'system', 'content' : system_message2},\n",
        "          {'role' : 'user', 'content' : generatePrompt3(title1, title2)}\n",
        "        ]\n",
        "      )\n",
        "      return completion.choices[0].message.content\n",
        "\n",
        "# print(Direct_Clickbait_Detection('GIRLFRIEND Controls My Life For 24 HOURS! - Challenge', 'Morgan reluctantly allows his girlfriend to control his day for 24 hours, enduring tasks like an ice bath, wearing a chicken costume, embarrassing himself during a KFC delivery, and even cutting his hair poorly. The day culminates with building a tent to sleep outside and ends with an awkward call to his ex, all for the sake of a YouTube video.'))\n",
        "# print(Sentence_Similarity('Among Us In Real Life, With ACTUAL Detectives... (Impostor IQ 999)', 'Real Life Among Us: YouTubers vs. Detectives in Space Arena'))"
      ],
      "metadata": {
        "id": "dRe-9kXdY_BA"
      },
      "execution_count": 6,
      "outputs": []
    },
    {
      "cell_type": "markdown",
      "source": [
        "# Exploratory Data Analysis"
      ],
      "metadata": {
        "id": "NePsZ1SWZxAU"
      }
    },
    {
      "cell_type": "code",
      "source": [
        "data\n",
        "# len(data)"
      ],
      "metadata": {
        "colab": {
          "base_uri": "https://localhost:8080/",
          "height": 632
        },
        "id": "4C66Ro10XfLz",
        "outputId": "baa6e004-86e3-42ab-c667-36c475f0cb8c"
      },
      "execution_count": 63,
      "outputs": [
        {
          "output_type": "execute_result",
          "data": {
            "text/plain": [
              "     Unnamed: 0           ID  ... Direct_Prediction  Similarity_Score\n",
              "0             0  ZZtYAOpHVYk  ...                 1              0.80\n",
              "1             1  8Iuvf4_NMF4  ...                 1              0.70\n",
              "2             2  4TiITQDPClI  ...                 1              0.70\n",
              "3             3  k1TkanTFMYc  ...                 1              0.70\n",
              "4             4  jPiPvAafhPU  ...                 1              0.40\n",
              "..          ...          ...  ...               ...               ...\n",
              "124         188  8xaMdOIsGLE  ...                 1              0.40\n",
              "125         189  BAp1m2Iw-FI  ...                 1              0.55\n",
              "126         190  ld0xulQ8NU8  ...                 1              0.40\n",
              "127         191  K5Qq2cKgd-A  ...                 1              0.70\n",
              "128         192  79WVTJBNsn8  ...                 1              0.70\n",
              "\n",
              "[129 rows x 11 columns]"
            ],
            "text/html": [
              "\n",
              "  <div id=\"df-3e615846-894d-44c9-9276-cfeae8cd94ef\" class=\"colab-df-container\">\n",
              "    <div>\n",
              "<style scoped>\n",
              "    .dataframe tbody tr th:only-of-type {\n",
              "        vertical-align: middle;\n",
              "    }\n",
              "\n",
              "    .dataframe tbody tr th {\n",
              "        vertical-align: top;\n",
              "    }\n",
              "\n",
              "    .dataframe thead th {\n",
              "        text-align: right;\n",
              "    }\n",
              "</style>\n",
              "<table border=\"1\" class=\"dataframe\">\n",
              "  <thead>\n",
              "    <tr style=\"text-align: right;\">\n",
              "      <th></th>\n",
              "      <th>Unnamed: 0</th>\n",
              "      <th>ID</th>\n",
              "      <th>Video Title</th>\n",
              "      <th>Views</th>\n",
              "      <th>Likes</th>\n",
              "      <th>Dislikes</th>\n",
              "      <th>Clickbait</th>\n",
              "      <th>Transcript</th>\n",
              "      <th>Predicted_Title</th>\n",
              "      <th>Direct_Prediction</th>\n",
              "      <th>Similarity_Score</th>\n",
              "    </tr>\n",
              "  </thead>\n",
              "  <tbody>\n",
              "    <tr>\n",
              "      <th>0</th>\n",
              "      <td>0</td>\n",
              "      <td>ZZtYAOpHVYk</td>\n",
              "      <td>10 Real Life GIANTS</td>\n",
              "      <td>9244943</td>\n",
              "      <td>64025</td>\n",
              "      <td>6508</td>\n",
              "      <td>1</td>\n",
              "      <td>10 real-life giants, including individuals lik...</td>\n",
              "      <td>\"10 REAL-LIFE GIANTS YOU WON'T BELIEVE EXIST\"</td>\n",
              "      <td>1</td>\n",
              "      <td>0.80</td>\n",
              "    </tr>\n",
              "    <tr>\n",
              "      <th>1</th>\n",
              "      <td>1</td>\n",
              "      <td>8Iuvf4_NMF4</td>\n",
              "      <td>15 Biggest Animals You Won't Believe Actually ...</td>\n",
              "      <td>8380807</td>\n",
              "      <td>48083</td>\n",
              "      <td>5299</td>\n",
              "      <td>1</td>\n",
              "      <td>15 of the biggest animals, including the giant...</td>\n",
              "      <td>15 Biggest Animals in the World</td>\n",
              "      <td>1</td>\n",
              "      <td>0.70</td>\n",
              "    </tr>\n",
              "    <tr>\n",
              "      <th>2</th>\n",
              "      <td>2</td>\n",
              "      <td>4TiITQDPClI</td>\n",
              "      <td>THESE GLASSES CURED MY COLORBLINDNESS!</td>\n",
              "      <td>29804390</td>\n",
              "      <td>2323366</td>\n",
              "      <td>280267</td>\n",
              "      <td>1</td>\n",
              "      <td>A colorblind YouTuber receives glasses that cu...</td>\n",
              "      <td>\"COLORBLIND YouTuber SEES COLORS for the FIRST...</td>\n",
              "      <td>1</td>\n",
              "      <td>0.70</td>\n",
              "    </tr>\n",
              "    <tr>\n",
              "      <th>3</th>\n",
              "      <td>3</td>\n",
              "      <td>k1TkanTFMYc</td>\n",
              "      <td>CRAZY Roller Coasters YOU WONT BELIEVE EXIST !</td>\n",
              "      <td>14056313</td>\n",
              "      <td>100767</td>\n",
              "      <td>4691</td>\n",
              "      <td>1</td>\n",
              "      <td>A commentary on various terrifying amusement p...</td>\n",
              "      <td>\"The Most Terrifying Amusement Park Rides You ...</td>\n",
              "      <td>1</td>\n",
              "      <td>0.70</td>\n",
              "    </tr>\n",
              "    <tr>\n",
              "      <th>4</th>\n",
              "      <td>4</td>\n",
              "      <td>jPiPvAafhPU</td>\n",
              "      <td>LUCKY PEOPLE Who Avoided VERY CLOSE CALLS</td>\n",
              "      <td>13431007</td>\n",
              "      <td>136547</td>\n",
              "      <td>6835</td>\n",
              "      <td>1</td>\n",
              "      <td>A compilation of instances where people narrow...</td>\n",
              "      <td>\"Lucky People Escaping Disasters Compilation w...</td>\n",
              "      <td>1</td>\n",
              "      <td>0.40</td>\n",
              "    </tr>\n",
              "    <tr>\n",
              "      <th>...</th>\n",
              "      <td>...</td>\n",
              "      <td>...</td>\n",
              "      <td>...</td>\n",
              "      <td>...</td>\n",
              "      <td>...</td>\n",
              "      <td>...</td>\n",
              "      <td>...</td>\n",
              "      <td>...</td>\n",
              "      <td>...</td>\n",
              "      <td>...</td>\n",
              "      <td>...</td>\n",
              "    </tr>\n",
              "    <tr>\n",
              "      <th>124</th>\n",
              "      <td>188</td>\n",
              "      <td>8xaMdOIsGLE</td>\n",
              "      <td>You won't believe these CRAZY SIGHTINGS! (Can'...</td>\n",
              "      <td>16269467</td>\n",
              "      <td>380222</td>\n",
              "      <td>9096</td>\n",
              "      <td>1</td>\n",
              "      <td>various photos with hidden creepy or paranorma...</td>\n",
              "      <td>\"Reacting to Creepy Photos with Hidden Secrets\"</td>\n",
              "      <td>1</td>\n",
              "      <td>0.40</td>\n",
              "    </tr>\n",
              "    <tr>\n",
              "      <th>125</th>\n",
              "      <td>189</td>\n",
              "      <td>BAp1m2Iw-FI</td>\n",
              "      <td>Only KIDS Can Hear This Sound..</td>\n",
              "      <td>37139</td>\n",
              "      <td>2053</td>\n",
              "      <td>77</td>\n",
              "      <td>1</td>\n",
              "      <td>Various unique abilities that many kids have b...</td>\n",
              "      <td>\"10 Unique Abilities Kids Have That Adults Don...</td>\n",
              "      <td>1</td>\n",
              "      <td>0.55</td>\n",
              "    </tr>\n",
              "    <tr>\n",
              "      <th>126</th>\n",
              "      <td>190</td>\n",
              "      <td>ld0xulQ8NU8</td>\n",
              "      <td>Unboxing Samsung's Mind Bending New Display...</td>\n",
              "      <td>1002665</td>\n",
              "      <td>40521</td>\n",
              "      <td>1709</td>\n",
              "      <td>0</td>\n",
              "      <td>Will introduces Lew to high-end gaming setups ...</td>\n",
              "      <td>\"Upgrading My Gaming Setup with Lew from Unbox...</td>\n",
              "      <td>1</td>\n",
              "      <td>0.40</td>\n",
              "    </tr>\n",
              "    <tr>\n",
              "      <th>127</th>\n",
              "      <td>191</td>\n",
              "      <td>K5Qq2cKgd-A</td>\n",
              "      <td>5 SCARIEST THINGS YouTubers Caught On Camera! ...</td>\n",
              "      <td>69836</td>\n",
              "      <td>5045</td>\n",
              "      <td>367</td>\n",
              "      <td>1</td>\n",
              "      <td>YouTuber Adventure showcases five of the scari...</td>\n",
              "      <td>Top 5 Scariest YouTube Moments Captured on Camera</td>\n",
              "      <td>1</td>\n",
              "      <td>0.70</td>\n",
              "    </tr>\n",
              "    <tr>\n",
              "      <th>128</th>\n",
              "      <td>192</td>\n",
              "      <td>79WVTJBNsn8</td>\n",
              "      <td>Faces REVEALED for ALL Fortnite Battlepass ski...</td>\n",
              "      <td>5843805</td>\n",
              "      <td>118207</td>\n",
              "      <td>4748</td>\n",
              "      <td>1</td>\n",
              "      <td>YouTuber tries to reveal what's under various ...</td>\n",
              "      <td>Unmasking Fortnite Skins: What's Under the Hel...</td>\n",
              "      <td>1</td>\n",
              "      <td>0.70</td>\n",
              "    </tr>\n",
              "  </tbody>\n",
              "</table>\n",
              "<p>129 rows × 11 columns</p>\n",
              "</div>\n",
              "    <div class=\"colab-df-buttons\">\n",
              "\n",
              "  <div class=\"colab-df-container\">\n",
              "    <button class=\"colab-df-convert\" onclick=\"convertToInteractive('df-3e615846-894d-44c9-9276-cfeae8cd94ef')\"\n",
              "            title=\"Convert this dataframe to an interactive table.\"\n",
              "            style=\"display:none;\">\n",
              "\n",
              "  <svg xmlns=\"http://www.w3.org/2000/svg\" height=\"24px\" viewBox=\"0 -960 960 960\">\n",
              "    <path d=\"M120-120v-720h720v720H120Zm60-500h600v-160H180v160Zm220 220h160v-160H400v160Zm0 220h160v-160H400v160ZM180-400h160v-160H180v160Zm440 0h160v-160H620v160ZM180-180h160v-160H180v160Zm440 0h160v-160H620v160Z\"/>\n",
              "  </svg>\n",
              "    </button>\n",
              "\n",
              "  <style>\n",
              "    .colab-df-container {\n",
              "      display:flex;\n",
              "      gap: 12px;\n",
              "    }\n",
              "\n",
              "    .colab-df-convert {\n",
              "      background-color: #E8F0FE;\n",
              "      border: none;\n",
              "      border-radius: 50%;\n",
              "      cursor: pointer;\n",
              "      display: none;\n",
              "      fill: #1967D2;\n",
              "      height: 32px;\n",
              "      padding: 0 0 0 0;\n",
              "      width: 32px;\n",
              "    }\n",
              "\n",
              "    .colab-df-convert:hover {\n",
              "      background-color: #E2EBFA;\n",
              "      box-shadow: 0px 1px 2px rgba(60, 64, 67, 0.3), 0px 1px 3px 1px rgba(60, 64, 67, 0.15);\n",
              "      fill: #174EA6;\n",
              "    }\n",
              "\n",
              "    .colab-df-buttons div {\n",
              "      margin-bottom: 4px;\n",
              "    }\n",
              "\n",
              "    [theme=dark] .colab-df-convert {\n",
              "      background-color: #3B4455;\n",
              "      fill: #D2E3FC;\n",
              "    }\n",
              "\n",
              "    [theme=dark] .colab-df-convert:hover {\n",
              "      background-color: #434B5C;\n",
              "      box-shadow: 0px 1px 3px 1px rgba(0, 0, 0, 0.15);\n",
              "      filter: drop-shadow(0px 1px 2px rgba(0, 0, 0, 0.3));\n",
              "      fill: #FFFFFF;\n",
              "    }\n",
              "  </style>\n",
              "\n",
              "    <script>\n",
              "      const buttonEl =\n",
              "        document.querySelector('#df-3e615846-894d-44c9-9276-cfeae8cd94ef button.colab-df-convert');\n",
              "      buttonEl.style.display =\n",
              "        google.colab.kernel.accessAllowed ? 'block' : 'none';\n",
              "\n",
              "      async function convertToInteractive(key) {\n",
              "        const element = document.querySelector('#df-3e615846-894d-44c9-9276-cfeae8cd94ef');\n",
              "        const dataTable =\n",
              "          await google.colab.kernel.invokeFunction('convertToInteractive',\n",
              "                                                    [key], {});\n",
              "        if (!dataTable) return;\n",
              "\n",
              "        const docLinkHtml = 'Like what you see? Visit the ' +\n",
              "          '<a target=\"_blank\" href=https://colab.research.google.com/notebooks/data_table.ipynb>data table notebook</a>'\n",
              "          + ' to learn more about interactive tables.';\n",
              "        element.innerHTML = '';\n",
              "        dataTable['output_type'] = 'display_data';\n",
              "        await google.colab.output.renderOutput(dataTable, element);\n",
              "        const docLink = document.createElement('div');\n",
              "        docLink.innerHTML = docLinkHtml;\n",
              "        element.appendChild(docLink);\n",
              "      }\n",
              "    </script>\n",
              "  </div>\n",
              "\n",
              "\n",
              "<div id=\"df-c625e079-1a1c-431d-a498-83cf166a1cab\">\n",
              "  <button class=\"colab-df-quickchart\" onclick=\"quickchart('df-c625e079-1a1c-431d-a498-83cf166a1cab')\"\n",
              "            title=\"Suggest charts\"\n",
              "            style=\"display:none;\">\n",
              "\n",
              "<svg xmlns=\"http://www.w3.org/2000/svg\" height=\"24px\"viewBox=\"0 0 24 24\"\n",
              "     width=\"24px\">\n",
              "    <g>\n",
              "        <path d=\"M19 3H5c-1.1 0-2 .9-2 2v14c0 1.1.9 2 2 2h14c1.1 0 2-.9 2-2V5c0-1.1-.9-2-2-2zM9 17H7v-7h2v7zm4 0h-2V7h2v10zm4 0h-2v-4h2v4z\"/>\n",
              "    </g>\n",
              "</svg>\n",
              "  </button>\n",
              "\n",
              "<style>\n",
              "  .colab-df-quickchart {\n",
              "      --bg-color: #E8F0FE;\n",
              "      --fill-color: #1967D2;\n",
              "      --hover-bg-color: #E2EBFA;\n",
              "      --hover-fill-color: #174EA6;\n",
              "      --disabled-fill-color: #AAA;\n",
              "      --disabled-bg-color: #DDD;\n",
              "  }\n",
              "\n",
              "  [theme=dark] .colab-df-quickchart {\n",
              "      --bg-color: #3B4455;\n",
              "      --fill-color: #D2E3FC;\n",
              "      --hover-bg-color: #434B5C;\n",
              "      --hover-fill-color: #FFFFFF;\n",
              "      --disabled-bg-color: #3B4455;\n",
              "      --disabled-fill-color: #666;\n",
              "  }\n",
              "\n",
              "  .colab-df-quickchart {\n",
              "    background-color: var(--bg-color);\n",
              "    border: none;\n",
              "    border-radius: 50%;\n",
              "    cursor: pointer;\n",
              "    display: none;\n",
              "    fill: var(--fill-color);\n",
              "    height: 32px;\n",
              "    padding: 0;\n",
              "    width: 32px;\n",
              "  }\n",
              "\n",
              "  .colab-df-quickchart:hover {\n",
              "    background-color: var(--hover-bg-color);\n",
              "    box-shadow: 0 1px 2px rgba(60, 64, 67, 0.3), 0 1px 3px 1px rgba(60, 64, 67, 0.15);\n",
              "    fill: var(--button-hover-fill-color);\n",
              "  }\n",
              "\n",
              "  .colab-df-quickchart-complete:disabled,\n",
              "  .colab-df-quickchart-complete:disabled:hover {\n",
              "    background-color: var(--disabled-bg-color);\n",
              "    fill: var(--disabled-fill-color);\n",
              "    box-shadow: none;\n",
              "  }\n",
              "\n",
              "  .colab-df-spinner {\n",
              "    border: 2px solid var(--fill-color);\n",
              "    border-color: transparent;\n",
              "    border-bottom-color: var(--fill-color);\n",
              "    animation:\n",
              "      spin 1s steps(1) infinite;\n",
              "  }\n",
              "\n",
              "  @keyframes spin {\n",
              "    0% {\n",
              "      border-color: transparent;\n",
              "      border-bottom-color: var(--fill-color);\n",
              "      border-left-color: var(--fill-color);\n",
              "    }\n",
              "    20% {\n",
              "      border-color: transparent;\n",
              "      border-left-color: var(--fill-color);\n",
              "      border-top-color: var(--fill-color);\n",
              "    }\n",
              "    30% {\n",
              "      border-color: transparent;\n",
              "      border-left-color: var(--fill-color);\n",
              "      border-top-color: var(--fill-color);\n",
              "      border-right-color: var(--fill-color);\n",
              "    }\n",
              "    40% {\n",
              "      border-color: transparent;\n",
              "      border-right-color: var(--fill-color);\n",
              "      border-top-color: var(--fill-color);\n",
              "    }\n",
              "    60% {\n",
              "      border-color: transparent;\n",
              "      border-right-color: var(--fill-color);\n",
              "    }\n",
              "    80% {\n",
              "      border-color: transparent;\n",
              "      border-right-color: var(--fill-color);\n",
              "      border-bottom-color: var(--fill-color);\n",
              "    }\n",
              "    90% {\n",
              "      border-color: transparent;\n",
              "      border-bottom-color: var(--fill-color);\n",
              "    }\n",
              "  }\n",
              "</style>\n",
              "\n",
              "  <script>\n",
              "    async function quickchart(key) {\n",
              "      const quickchartButtonEl =\n",
              "        document.querySelector('#' + key + ' button');\n",
              "      quickchartButtonEl.disabled = true;  // To prevent multiple clicks.\n",
              "      quickchartButtonEl.classList.add('colab-df-spinner');\n",
              "      try {\n",
              "        const charts = await google.colab.kernel.invokeFunction(\n",
              "            'suggestCharts', [key], {});\n",
              "      } catch (error) {\n",
              "        console.error('Error during call to suggestCharts:', error);\n",
              "      }\n",
              "      quickchartButtonEl.classList.remove('colab-df-spinner');\n",
              "      quickchartButtonEl.classList.add('colab-df-quickchart-complete');\n",
              "    }\n",
              "    (() => {\n",
              "      let quickchartButtonEl =\n",
              "        document.querySelector('#df-c625e079-1a1c-431d-a498-83cf166a1cab button');\n",
              "      quickchartButtonEl.style.display =\n",
              "        google.colab.kernel.accessAllowed ? 'block' : 'none';\n",
              "    })();\n",
              "  </script>\n",
              "</div>\n",
              "\n",
              "  <div id=\"id_355f0ac3-4cdd-4c89-a22f-68675a59c328\">\n",
              "    <style>\n",
              "      .colab-df-generate {\n",
              "        background-color: #E8F0FE;\n",
              "        border: none;\n",
              "        border-radius: 50%;\n",
              "        cursor: pointer;\n",
              "        display: none;\n",
              "        fill: #1967D2;\n",
              "        height: 32px;\n",
              "        padding: 0 0 0 0;\n",
              "        width: 32px;\n",
              "      }\n",
              "\n",
              "      .colab-df-generate:hover {\n",
              "        background-color: #E2EBFA;\n",
              "        box-shadow: 0px 1px 2px rgba(60, 64, 67, 0.3), 0px 1px 3px 1px rgba(60, 64, 67, 0.15);\n",
              "        fill: #174EA6;\n",
              "      }\n",
              "\n",
              "      [theme=dark] .colab-df-generate {\n",
              "        background-color: #3B4455;\n",
              "        fill: #D2E3FC;\n",
              "      }\n",
              "\n",
              "      [theme=dark] .colab-df-generate:hover {\n",
              "        background-color: #434B5C;\n",
              "        box-shadow: 0px 1px 3px 1px rgba(0, 0, 0, 0.15);\n",
              "        filter: drop-shadow(0px 1px 2px rgba(0, 0, 0, 0.3));\n",
              "        fill: #FFFFFF;\n",
              "      }\n",
              "    </style>\n",
              "    <button class=\"colab-df-generate\" onclick=\"generateWithVariable('data')\"\n",
              "            title=\"Generate code using this dataframe.\"\n",
              "            style=\"display:none;\">\n",
              "\n",
              "  <svg xmlns=\"http://www.w3.org/2000/svg\" height=\"24px\"viewBox=\"0 0 24 24\"\n",
              "       width=\"24px\">\n",
              "    <path d=\"M7,19H8.4L18.45,9,17,7.55,7,17.6ZM5,21V16.75L18.45,3.32a2,2,0,0,1,2.83,0l1.4,1.43a1.91,1.91,0,0,1,.58,1.4,1.91,1.91,0,0,1-.58,1.4L9.25,21ZM18.45,9,17,7.55Zm-12,3A5.31,5.31,0,0,0,4.9,8.1,5.31,5.31,0,0,0,1,6.5,5.31,5.31,0,0,0,4.9,4.9,5.31,5.31,0,0,0,6.5,1,5.31,5.31,0,0,0,8.1,4.9,5.31,5.31,0,0,0,12,6.5,5.46,5.46,0,0,0,6.5,12Z\"/>\n",
              "  </svg>\n",
              "    </button>\n",
              "    <script>\n",
              "      (() => {\n",
              "      const buttonEl =\n",
              "        document.querySelector('#id_355f0ac3-4cdd-4c89-a22f-68675a59c328 button.colab-df-generate');\n",
              "      buttonEl.style.display =\n",
              "        google.colab.kernel.accessAllowed ? 'block' : 'none';\n",
              "\n",
              "      buttonEl.onclick = () => {\n",
              "        google.colab.notebook.generateWithVariable('data');\n",
              "      }\n",
              "      })();\n",
              "    </script>\n",
              "  </div>\n",
              "\n",
              "    </div>\n",
              "  </div>\n"
            ],
            "application/vnd.google.colaboratory.intrinsic+json": {
              "type": "dataframe",
              "variable_name": "data",
              "summary": "{\n  \"name\": \"data\",\n  \"rows\": 129,\n  \"fields\": [\n    {\n      \"column\": \"Unnamed: 0\",\n      \"properties\": {\n        \"dtype\": \"number\",\n        \"std\": 51,\n        \"min\": 0,\n        \"max\": 192,\n        \"num_unique_values\": 129,\n        \"samples\": [\n          55,\n          40,\n          19\n        ],\n        \"semantic_type\": \"\",\n        \"description\": \"\"\n      }\n    },\n    {\n      \"column\": \"ID\",\n      \"properties\": {\n        \"dtype\": \"string\",\n        \"num_unique_values\": 129,\n        \"samples\": [\n          \"UE8lAZVIwac\",\n          \"3nHWYFbKcs4\",\n          \"1iNoQSM8pqU\"\n        ],\n        \"semantic_type\": \"\",\n        \"description\": \"\"\n      }\n    },\n    {\n      \"column\": \"Video Title\",\n      \"properties\": {\n        \"dtype\": \"string\",\n        \"num_unique_values\": 129,\n        \"samples\": [\n          \"DONT PLAY GTA 5 AT 3:00 AM.. (scary)\",\n          \"Ohio State at Minnesota C.J. Stroud Looks Good in Opener vs Gophers Sept. 2, 2021 Highlights\",\n          \"this video will make you forget your name..\"\n        ],\n        \"semantic_type\": \"\",\n        \"description\": \"\"\n      }\n    },\n    {\n      \"column\": \"Views\",\n      \"properties\": {\n        \"dtype\": \"number\",\n        \"std\": 19750280,\n        \"min\": 3150,\n        \"max\": 139036071,\n        \"num_unique_values\": 129,\n        \"samples\": [\n          2974379,\n          139105,\n          916206\n        ],\n        \"semantic_type\": \"\",\n        \"description\": \"\"\n      }\n    },\n    {\n      \"column\": \"Likes\",\n      \"properties\": {\n        \"dtype\": \"number\",\n        \"std\": 536468,\n        \"min\": 57,\n        \"max\": 3438692,\n        \"num_unique_values\": 129,\n        \"samples\": [\n          78932,\n          1084,\n          76981\n        ],\n        \"semantic_type\": \"\",\n        \"description\": \"\"\n      }\n    },\n    {\n      \"column\": \"Dislikes\",\n      \"properties\": {\n        \"dtype\": \"number\",\n        \"std\": 38992,\n        \"min\": 15,\n        \"max\": 280267,\n        \"num_unique_values\": 127,\n        \"samples\": [\n          704,\n          1137,\n          1347\n        ],\n        \"semantic_type\": \"\",\n        \"description\": \"\"\n      }\n    },\n    {\n      \"column\": \"Clickbait\",\n      \"properties\": {\n        \"dtype\": \"number\",\n        \"std\": 0,\n        \"min\": 0,\n        \"max\": 1,\n        \"num_unique_values\": 2,\n        \"samples\": [\n          0,\n          1\n        ],\n        \"semantic_type\": \"\",\n        \"description\": \"\"\n      }\n    },\n    {\n      \"column\": \"Transcript\",\n      \"properties\": {\n        \"dtype\": \"string\",\n        \"num_unique_values\": 129,\n        \"samples\": [\n          \"Jimmy explores the eerie phenomena in GTA 5's sewers at 3 a.m., where players report paranormal experiences and sightings of \\\"Rat Man,\\\" a mysterious figure rumored to sprint at alarming speeds. Despite skepticism, Jimmy delves into the unsettling environment, speculating on connections to aliens and deciphering clues like Morse code, inviting viewer input on these chilling discoveries.\",\n          \"Highlights from an Ohio State vs. Minnesota football game, featuring key plays like long touchdowns, interceptions, and impactful defensive stops, leading to Ohio State's victory with a final score of 45-31 over Minnesota.\"\n        ],\n        \"semantic_type\": \"\",\n        \"description\": \"\"\n      }\n    },\n    {\n      \"column\": \"Predicted_Title\",\n      \"properties\": {\n        \"dtype\": \"string\",\n        \"num_unique_values\": 129,\n        \"samples\": [\n          \"\\\"Exploring GTA 5's Haunted Sewers at 3 AM - Rat Man Mystery Revealed?\\\"\",\n          \"Ohio State vs. Minnesota Football Game Highlights: 45-31 Victory\"\n        ],\n        \"semantic_type\": \"\",\n        \"description\": \"\"\n      }\n    },\n    {\n      \"column\": \"Direct_Prediction\",\n      \"properties\": {\n        \"dtype\": \"number\",\n        \"std\": 0,\n        \"min\": 0,\n        \"max\": 1,\n        \"num_unique_values\": 2,\n        \"samples\": [\n          0,\n          1\n        ],\n        \"semantic_type\": \"\",\n        \"description\": \"\"\n      }\n    },\n    {\n      \"column\": \"Similarity_Score\",\n      \"properties\": {\n        \"dtype\": \"number\",\n        \"std\": 0.21972650261088758,\n        \"min\": 0.0,\n        \"max\": 0.95,\n        \"num_unique_values\": 12,\n        \"samples\": [\n          0.5,\n          0.95\n        ],\n        \"semantic_type\": \"\",\n        \"description\": \"\"\n      }\n    }\n  ]\n}"
            }
          },
          "metadata": {},
          "execution_count": 63
        }
      ]
    },
    {
      "cell_type": "code",
      "source": [
        "data.count()"
      ],
      "metadata": {
        "colab": {
          "base_uri": "https://localhost:8080/"
        },
        "id": "2dPtq3JKXhxj",
        "outputId": "5f8b6de2-2370-4e28-d18c-e418681f43db"
      },
      "execution_count": null,
      "outputs": [
        {
          "output_type": "execute_result",
          "data": {
            "text/plain": [
              "ID             193\n",
              "Video Title    193\n",
              "Views          193\n",
              "Likes          193\n",
              "Dislikes       193\n",
              "Clickbait      193\n",
              "Transcript     193\n",
              "dtype: int64"
            ]
          },
          "metadata": {},
          "execution_count": 48
        }
      ]
    },
    {
      "cell_type": "code",
      "source": [
        "# data['Transcript'].unique()"
      ],
      "metadata": {
        "id": "KCuidJ5dYzjR"
      },
      "execution_count": null,
      "outputs": []
    },
    {
      "cell_type": "code",
      "source": [
        "# data[data.Transcript == 'Unavailable'].count()\n",
        "# data[data.Transcript == 'Official Video'].count()\n",
        "data[data.Transcript == 'Music Video'].count()"
      ],
      "metadata": {
        "colab": {
          "base_uri": "https://localhost:8080/"
        },
        "id": "Qf21MS0dZ06S",
        "outputId": "fecc765f-4475-4bf4-addc-dc6c0a6b45ae"
      },
      "execution_count": null,
      "outputs": [
        {
          "output_type": "execute_result",
          "data": {
            "text/plain": [
              "ID             15\n",
              "Video Title    15\n",
              "Views          15\n",
              "Likes          15\n",
              "Dislikes       15\n",
              "Clickbait      15\n",
              "Transcript     15\n",
              "dtype: int64"
            ]
          },
          "metadata": {},
          "execution_count": 50
        }
      ]
    },
    {
      "cell_type": "code",
      "source": [
        "sb.pairplot(data, hue='Clickbait')"
      ],
      "metadata": {
        "colab": {
          "base_uri": "https://localhost:8080/",
          "height": 775
        },
        "id": "AtceyVTVaVZe",
        "outputId": "673bd181-c6cc-4ef8-a155-1dfd529fbe75"
      },
      "execution_count": null,
      "outputs": [
        {
          "output_type": "execute_result",
          "data": {
            "text/plain": [
              "<seaborn.axisgrid.PairGrid at 0x7fcf4ad8c040>"
            ]
          },
          "metadata": {},
          "execution_count": 26
        },
        {
          "output_type": "display_data",
          "data": {
            "text/plain": [
              "<Figure size 821.236x750 with 12 Axes>"
            ],
            "image/png": "[encoded data removed]"
          },
          "metadata": {}
        }
      ]
    },
    {
      "cell_type": "code",
      "source": [
        "sb.heatmap(data.corr(numeric_only=True), annot=True)"
      ],
      "metadata": {
        "colab": {
          "base_uri": "https://localhost:8080/",
          "height": 556
        },
        "id": "UlHSdfQmbwUb",
        "outputId": "06bfbce7-bebc-4fdb-c4f5-0c2d1eeb1206"
      },
      "execution_count": 62,
      "outputs": [
        {
          "output_type": "execute_result",
          "data": {
            "text/plain": [
              "<Axes: >"
            ]
          },
          "metadata": {},
          "execution_count": 62
        },
        {
          "output_type": "display_data",
          "data": {
            "text/plain": [
              "<Figure size 640x480 with 2 Axes>"
            ],
            "image/png": "[encoded data removed]"
          },
          "metadata": {}
        }
      ]
    },
    {
      "cell_type": "code",
      "source": [
        "data['Clickbait'].value_counts()"
      ],
      "metadata": {
        "colab": {
          "base_uri": "https://localhost:8080/"
        },
        "id": "5zh_hJ_1as22",
        "outputId": "a2cabd4a-b216-4563-8dc9-32fdab8a2ffe"
      },
      "execution_count": null,
      "outputs": [
        {
          "output_type": "execute_result",
          "data": {
            "text/plain": [
              "Clickbait\n",
              "1    97\n",
              "0    96\n",
              "Name: count, dtype: int64"
            ]
          },
          "metadata": {},
          "execution_count": 9
        }
      ]
    },
    {
      "cell_type": "markdown",
      "source": [
        "# Preprocessing"
      ],
      "metadata": {
        "id": "2pKitZwBaDYk"
      }
    },
    {
      "cell_type": "code",
      "source": [
        "data_init = data.copy()"
      ],
      "metadata": {
        "id": "PUR1FTN_biU-"
      },
      "execution_count": 7,
      "outputs": []
    },
    {
      "cell_type": "code",
      "source": [
        "data.drop(data[data.Transcript == 'Unavailable'].index, inplace=True)\n",
        "data.drop(data[data.Transcript == 'Official Video'].index, inplace=True)\n",
        "data.drop(data[data.Transcript == 'Music Video'].index, inplace=True)"
      ],
      "metadata": {
        "id": "TJ0ib0AdbyDh"
      },
      "execution_count": 8,
      "outputs": []
    },
    {
      "cell_type": "code",
      "source": [
        "# data.shape\n",
        "data_init"
      ],
      "metadata": {
        "colab": {
          "base_uri": "https://localhost:8080/",
          "height": 424
        },
        "collapsed": true,
        "id": "E4uBp8DJtFca",
        "outputId": "f618d888-66bb-4578-f809-c3b989a6c282"
      },
      "execution_count": 68,
      "outputs": [
        {
          "output_type": "execute_result",
          "data": {
            "text/plain": [
              "              ID  ...                                         Transcript\n",
              "0    ZZtYAOpHVYk  ...  10 real-life giants, including individuals lik...\n",
              "1    8Iuvf4_NMF4  ...  15 of the biggest animals, including the giant...\n",
              "2    4TiITQDPClI  ...  A colorblind YouTuber receives glasses that cu...\n",
              "3    k1TkanTFMYc  ...  A commentary on various terrifying amusement p...\n",
              "4    jPiPvAafhPU  ...  A compilation of instances where people narrow...\n",
              "..           ...  ...                                                ...\n",
              "188  8xaMdOIsGLE  ...  various photos with hidden creepy or paranorma...\n",
              "189  BAp1m2Iw-FI  ...  Various unique abilities that many kids have b...\n",
              "190  ld0xulQ8NU8  ...  Will introduces Lew to high-end gaming setups ...\n",
              "191  K5Qq2cKgd-A  ...  YouTuber Adventure showcases five of the scari...\n",
              "192  79WVTJBNsn8  ...  YouTuber tries to reveal what's under various ...\n",
              "\n",
              "[193 rows x 7 columns]"
            ],
            "text/html": [
              "\n",
              "  <div id=\"df-3033eab3-0a30-4870-ab5f-2add7ece8961\" class=\"colab-df-container\">\n",
              "    <div>\n",
              "<style scoped>\n",
              "    .dataframe tbody tr th:only-of-type {\n",
              "        vertical-align: middle;\n",
              "    }\n",
              "\n",
              "    .dataframe tbody tr th {\n",
              "        vertical-align: top;\n",
              "    }\n",
              "\n",
              "    .dataframe thead th {\n",
              "        text-align: right;\n",
              "    }\n",
              "</style>\n",
              "<table border=\"1\" class=\"dataframe\">\n",
              "  <thead>\n",
              "    <tr style=\"text-align: right;\">\n",
              "      <th></th>\n",
              "      <th>ID</th>\n",
              "      <th>Video Title</th>\n",
              "      <th>Views</th>\n",
              "      <th>Likes</th>\n",
              "      <th>Dislikes</th>\n",
              "      <th>Clickbait</th>\n",
              "      <th>Transcript</th>\n",
              "    </tr>\n",
              "  </thead>\n",
              "  <tbody>\n",
              "    <tr>\n",
              "      <th>0</th>\n",
              "      <td>ZZtYAOpHVYk</td>\n",
              "      <td>10 Real Life GIANTS</td>\n",
              "      <td>9244943</td>\n",
              "      <td>64025</td>\n",
              "      <td>6508</td>\n",
              "      <td>1</td>\n",
              "      <td>10 real-life giants, including individuals lik...</td>\n",
              "    </tr>\n",
              "    <tr>\n",
              "      <th>1</th>\n",
              "      <td>8Iuvf4_NMF4</td>\n",
              "      <td>15 Biggest Animals You Won't Believe Actually ...</td>\n",
              "      <td>8380807</td>\n",
              "      <td>48083</td>\n",
              "      <td>5299</td>\n",
              "      <td>1</td>\n",
              "      <td>15 of the biggest animals, including the giant...</td>\n",
              "    </tr>\n",
              "    <tr>\n",
              "      <th>2</th>\n",
              "      <td>4TiITQDPClI</td>\n",
              "      <td>THESE GLASSES CURED MY COLORBLINDNESS!</td>\n",
              "      <td>29804390</td>\n",
              "      <td>2323366</td>\n",
              "      <td>280267</td>\n",
              "      <td>1</td>\n",
              "      <td>A colorblind YouTuber receives glasses that cu...</td>\n",
              "    </tr>\n",
              "    <tr>\n",
              "      <th>3</th>\n",
              "      <td>k1TkanTFMYc</td>\n",
              "      <td>CRAZY Roller Coasters YOU WONT BELIEVE EXIST !</td>\n",
              "      <td>14056313</td>\n",
              "      <td>100767</td>\n",
              "      <td>4691</td>\n",
              "      <td>1</td>\n",
              "      <td>A commentary on various terrifying amusement p...</td>\n",
              "    </tr>\n",
              "    <tr>\n",
              "      <th>4</th>\n",
              "      <td>jPiPvAafhPU</td>\n",
              "      <td>LUCKY PEOPLE Who Avoided VERY CLOSE CALLS</td>\n",
              "      <td>13431007</td>\n",
              "      <td>136547</td>\n",
              "      <td>6835</td>\n",
              "      <td>1</td>\n",
              "      <td>A compilation of instances where people narrow...</td>\n",
              "    </tr>\n",
              "    <tr>\n",
              "      <th>...</th>\n",
              "      <td>...</td>\n",
              "      <td>...</td>\n",
              "      <td>...</td>\n",
              "      <td>...</td>\n",
              "      <td>...</td>\n",
              "      <td>...</td>\n",
              "      <td>...</td>\n",
              "    </tr>\n",
              "    <tr>\n",
              "      <th>188</th>\n",
              "      <td>8xaMdOIsGLE</td>\n",
              "      <td>You won't believe these CRAZY SIGHTINGS! (Can'...</td>\n",
              "      <td>16269467</td>\n",
              "      <td>380222</td>\n",
              "      <td>9096</td>\n",
              "      <td>1</td>\n",
              "      <td>various photos with hidden creepy or paranorma...</td>\n",
              "    </tr>\n",
              "    <tr>\n",
              "      <th>189</th>\n",
              "      <td>BAp1m2Iw-FI</td>\n",
              "      <td>Only KIDS Can Hear This Sound..</td>\n",
              "      <td>37139</td>\n",
              "      <td>2053</td>\n",
              "      <td>77</td>\n",
              "      <td>1</td>\n",
              "      <td>Various unique abilities that many kids have b...</td>\n",
              "    </tr>\n",
              "    <tr>\n",
              "      <th>190</th>\n",
              "      <td>ld0xulQ8NU8</td>\n",
              "      <td>Unboxing Samsung's Mind Bending New Display...</td>\n",
              "      <td>1002665</td>\n",
              "      <td>40521</td>\n",
              "      <td>1709</td>\n",
              "      <td>0</td>\n",
              "      <td>Will introduces Lew to high-end gaming setups ...</td>\n",
              "    </tr>\n",
              "    <tr>\n",
              "      <th>191</th>\n",
              "      <td>K5Qq2cKgd-A</td>\n",
              "      <td>5 SCARIEST THINGS YouTubers Caught On Camera! ...</td>\n",
              "      <td>69836</td>\n",
              "      <td>5045</td>\n",
              "      <td>367</td>\n",
              "      <td>1</td>\n",
              "      <td>YouTuber Adventure showcases five of the scari...</td>\n",
              "    </tr>\n",
              "    <tr>\n",
              "      <th>192</th>\n",
              "      <td>79WVTJBNsn8</td>\n",
              "      <td>Faces REVEALED for ALL Fortnite Battlepass ski...</td>\n",
              "      <td>5843805</td>\n",
              "      <td>118207</td>\n",
              "      <td>4748</td>\n",
              "      <td>1</td>\n",
              "      <td>YouTuber tries to reveal what's under various ...</td>\n",
              "    </tr>\n",
              "  </tbody>\n",
              "</table>\n",
              "<p>193 rows × 7 columns</p>\n",
              "</div>\n",
              "    <div class=\"colab-df-buttons\">\n",
              "\n",
              "  <div class=\"colab-df-container\">\n",
              "    <button class=\"colab-df-convert\" onclick=\"convertToInteractive('df-3033eab3-0a30-4870-ab5f-2add7ece8961')\"\n",
              "            title=\"Convert this dataframe to an interactive table.\"\n",
              "            style=\"display:none;\">\n",
              "\n",
              "  <svg xmlns=\"http://www.w3.org/2000/svg\" height=\"24px\" viewBox=\"0 -960 960 960\">\n",
              "    <path d=\"M120-120v-720h720v720H120Zm60-500h600v-160H180v160Zm220 220h160v-160H400v160Zm0 220h160v-160H400v160ZM180-400h160v-160H180v160Zm440 0h160v-160H620v160ZM180-180h160v-160H180v160Zm440 0h160v-160H620v160Z\"/>\n",
              "  </svg>\n",
              "    </button>\n",
              "\n",
              "  <style>\n",
              "    .colab-df-container {\n",
              "      display:flex;\n",
              "      gap: 12px;\n",
              "    }\n",
              "\n",
              "    .colab-df-convert {\n",
              "      background-color: #E8F0FE;\n",
              "      border: none;\n",
              "      border-radius: 50%;\n",
              "      cursor: pointer;\n",
              "      display: none;\n",
              "      fill: #1967D2;\n",
              "      height: 32px;\n",
              "      padding: 0 0 0 0;\n",
              "      width: 32px;\n",
              "    }\n",
              "\n",
              "    .colab-df-convert:hover {\n",
              "      background-color: #E2EBFA;\n",
              "      box-shadow: 0px 1px 2px rgba(60, 64, 67, 0.3), 0px 1px 3px 1px rgba(60, 64, 67, 0.15);\n",
              "      fill: #174EA6;\n",
              "    }\n",
              "\n",
              "    .colab-df-buttons div {\n",
              "      margin-bottom: 4px;\n",
              "    }\n",
              "\n",
              "    [theme=dark] .colab-df-convert {\n",
              "      background-color: #3B4455;\n",
              "      fill: #D2E3FC;\n",
              "    }\n",
              "\n",
              "    [theme=dark] .colab-df-convert:hover {\n",
              "      background-color: #434B5C;\n",
              "      box-shadow: 0px 1px 3px 1px rgba(0, 0, 0, 0.15);\n",
              "      filter: drop-shadow(0px 1px 2px rgba(0, 0, 0, 0.3));\n",
              "      fill: #FFFFFF;\n",
              "    }\n",
              "  </style>\n",
              "\n",
              "    <script>\n",
              "      const buttonEl =\n",
              "        document.querySelector('#df-3033eab3-0a30-4870-ab5f-2add7ece8961 button.colab-df-convert');\n",
              "      buttonEl.style.display =\n",
              "        google.colab.kernel.accessAllowed ? 'block' : 'none';\n",
              "\n",
              "      async function convertToInteractive(key) {\n",
              "        const element = document.querySelector('#df-3033eab3-0a30-4870-ab5f-2add7ece8961');\n",
              "        const dataTable =\n",
              "          await google.colab.kernel.invokeFunction('convertToInteractive',\n",
              "                                                    [key], {});\n",
              "        if (!dataTable) return;\n",
              "\n",
              "        const docLinkHtml = 'Like what you see? Visit the ' +\n",
              "          '<a target=\"_blank\" href=https://colab.research.google.com/notebooks/data_table.ipynb>data table notebook</a>'\n",
              "          + ' to learn more about interactive tables.';\n",
              "        element.innerHTML = '';\n",
              "        dataTable['output_type'] = 'display_data';\n",
              "        await google.colab.output.renderOutput(dataTable, element);\n",
              "        const docLink = document.createElement('div');\n",
              "        docLink.innerHTML = docLinkHtml;\n",
              "        element.appendChild(docLink);\n",
              "      }\n",
              "    </script>\n",
              "  </div>\n",
              "\n",
              "\n",
              "<div id=\"df-4ba2611e-42c2-4751-8ac0-bae8bd46eb77\">\n",
              "  <button class=\"colab-df-quickchart\" onclick=\"quickchart('df-4ba2611e-42c2-4751-8ac0-bae8bd46eb77')\"\n",
              "            title=\"Suggest charts\"\n",
              "            style=\"display:none;\">\n",
              "\n",
              "<svg xmlns=\"http://www.w3.org/2000/svg\" height=\"24px\"viewBox=\"0 0 24 24\"\n",
              "     width=\"24px\">\n",
              "    <g>\n",
              "        <path d=\"M19 3H5c-1.1 0-2 .9-2 2v14c0 1.1.9 2 2 2h14c1.1 0 2-.9 2-2V5c0-1.1-.9-2-2-2zM9 17H7v-7h2v7zm4 0h-2V7h2v10zm4 0h-2v-4h2v4z\"/>\n",
              "    </g>\n",
              "</svg>\n",
              "  </button>\n",
              "\n",
              "<style>\n",
              "  .colab-df-quickchart {\n",
              "      --bg-color: #E8F0FE;\n",
              "      --fill-color: #1967D2;\n",
              "      --hover-bg-color: #E2EBFA;\n",
              "      --hover-fill-color: #174EA6;\n",
              "      --disabled-fill-color: #AAA;\n",
              "      --disabled-bg-color: #DDD;\n",
              "  }\n",
              "\n",
              "  [theme=dark] .colab-df-quickchart {\n",
              "      --bg-color: #3B4455;\n",
              "      --fill-color: #D2E3FC;\n",
              "      --hover-bg-color: #434B5C;\n",
              "      --hover-fill-color: #FFFFFF;\n",
              "      --disabled-bg-color: #3B4455;\n",
              "      --disabled-fill-color: #666;\n",
              "  }\n",
              "\n",
              "  .colab-df-quickchart {\n",
              "    background-color: var(--bg-color);\n",
              "    border: none;\n",
              "    border-radius: 50%;\n",
              "    cursor: pointer;\n",
              "    display: none;\n",
              "    fill: var(--fill-color);\n",
              "    height: 32px;\n",
              "    padding: 0;\n",
              "    width: 32px;\n",
              "  }\n",
              "\n",
              "  .colab-df-quickchart:hover {\n",
              "    background-color: var(--hover-bg-color);\n",
              "    box-shadow: 0 1px 2px rgba(60, 64, 67, 0.3), 0 1px 3px 1px rgba(60, 64, 67, 0.15);\n",
              "    fill: var(--button-hover-fill-color);\n",
              "  }\n",
              "\n",
              "  .colab-df-quickchart-complete:disabled,\n",
              "  .colab-df-quickchart-complete:disabled:hover {\n",
              "    background-color: var(--disabled-bg-color);\n",
              "    fill: var(--disabled-fill-color);\n",
              "    box-shadow: none;\n",
              "  }\n",
              "\n",
              "  .colab-df-spinner {\n",
              "    border: 2px solid var(--fill-color);\n",
              "    border-color: transparent;\n",
              "    border-bottom-color: var(--fill-color);\n",
              "    animation:\n",
              "      spin 1s steps(1) infinite;\n",
              "  }\n",
              "\n",
              "  @keyframes spin {\n",
              "    0% {\n",
              "      border-color: transparent;\n",
              "      border-bottom-color: var(--fill-color);\n",
              "      border-left-color: var(--fill-color);\n",
              "    }\n",
              "    20% {\n",
              "      border-color: transparent;\n",
              "      border-left-color: var(--fill-color);\n",
              "      border-top-color: var(--fill-color);\n",
              "    }\n",
              "    30% {\n",
              "      border-color: transparent;\n",
              "      border-left-color: var(--fill-color);\n",
              "      border-top-color: var(--fill-color);\n",
              "      border-right-color: var(--fill-color);\n",
              "    }\n",
              "    40% {\n",
              "      border-color: transparent;\n",
              "      border-right-color: var(--fill-color);\n",
              "      border-top-color: var(--fill-color);\n",
              "    }\n",
              "    60% {\n",
              "      border-color: transparent;\n",
              "      border-right-color: var(--fill-color);\n",
              "    }\n",
              "    80% {\n",
              "      border-color: transparent;\n",
              "      border-right-color: var(--fill-color);\n",
              "      border-bottom-color: var(--fill-color);\n",
              "    }\n",
              "    90% {\n",
              "      border-color: transparent;\n",
              "      border-bottom-color: var(--fill-color);\n",
              "    }\n",
              "  }\n",
              "</style>\n",
              "\n",
              "  <script>\n",
              "    async function quickchart(key) {\n",
              "      const quickchartButtonEl =\n",
              "        document.querySelector('#' + key + ' button');\n",
              "      quickchartButtonEl.disabled = true;  // To prevent multiple clicks.\n",
              "      quickchartButtonEl.classList.add('colab-df-spinner');\n",
              "      try {\n",
              "        const charts = await google.colab.kernel.invokeFunction(\n",
              "            'suggestCharts', [key], {});\n",
              "      } catch (error) {\n",
              "        console.error('Error during call to suggestCharts:', error);\n",
              "      }\n",
              "      quickchartButtonEl.classList.remove('colab-df-spinner');\n",
              "      quickchartButtonEl.classList.add('colab-df-quickchart-complete');\n",
              "    }\n",
              "    (() => {\n",
              "      let quickchartButtonEl =\n",
              "        document.querySelector('#df-4ba2611e-42c2-4751-8ac0-bae8bd46eb77 button');\n",
              "      quickchartButtonEl.style.display =\n",
              "        google.colab.kernel.accessAllowed ? 'block' : 'none';\n",
              "    })();\n",
              "  </script>\n",
              "</div>\n",
              "\n",
              "  <div id=\"id_a4067f91-7a81-464c-bded-e639698a03e1\">\n",
              "    <style>\n",
              "      .colab-df-generate {\n",
              "        background-color: #E8F0FE;\n",
              "        border: none;\n",
              "        border-radius: 50%;\n",
              "        cursor: pointer;\n",
              "        display: none;\n",
              "        fill: #1967D2;\n",
              "        height: 32px;\n",
              "        padding: 0 0 0 0;\n",
              "        width: 32px;\n",
              "      }\n",
              "\n",
              "      .colab-df-generate:hover {\n",
              "        background-color: #E2EBFA;\n",
              "        box-shadow: 0px 1px 2px rgba(60, 64, 67, 0.3), 0px 1px 3px 1px rgba(60, 64, 67, 0.15);\n",
              "        fill: #174EA6;\n",
              "      }\n",
              "\n",
              "      [theme=dark] .colab-df-generate {\n",
              "        background-color: #3B4455;\n",
              "        fill: #D2E3FC;\n",
              "      }\n",
              "\n",
              "      [theme=dark] .colab-df-generate:hover {\n",
              "        background-color: #434B5C;\n",
              "        box-shadow: 0px 1px 3px 1px rgba(0, 0, 0, 0.15);\n",
              "        filter: drop-shadow(0px 1px 2px rgba(0, 0, 0, 0.3));\n",
              "        fill: #FFFFFF;\n",
              "      }\n",
              "    </style>\n",
              "    <button class=\"colab-df-generate\" onclick=\"generateWithVariable('data_init')\"\n",
              "            title=\"Generate code using this dataframe.\"\n",
              "            style=\"display:none;\">\n",
              "\n",
              "  <svg xmlns=\"http://www.w3.org/2000/svg\" height=\"24px\"viewBox=\"0 0 24 24\"\n",
              "       width=\"24px\">\n",
              "    <path d=\"M7,19H8.4L18.45,9,17,7.55,7,17.6ZM5,21V16.75L18.45,3.32a2,2,0,0,1,2.83,0l1.4,1.43a1.91,1.91,0,0,1,.58,1.4,1.91,1.91,0,0,1-.58,1.4L9.25,21ZM18.45,9,17,7.55Zm-12,3A5.31,5.31,0,0,0,4.9,8.1,5.31,5.31,0,0,0,1,6.5,5.31,5.31,0,0,0,4.9,4.9,5.31,5.31,0,0,0,6.5,1,5.31,5.31,0,0,0,8.1,4.9,5.31,5.31,0,0,0,12,6.5,5.46,5.46,0,0,0,6.5,12Z\"/>\n",
              "  </svg>\n",
              "    </button>\n",
              "    <script>\n",
              "      (() => {\n",
              "      const buttonEl =\n",
              "        document.querySelector('#id_a4067f91-7a81-464c-bded-e639698a03e1 button.colab-df-generate');\n",
              "      buttonEl.style.display =\n",
              "        google.colab.kernel.accessAllowed ? 'block' : 'none';\n",
              "\n",
              "      buttonEl.onclick = () => {\n",
              "        google.colab.notebook.generateWithVariable('data_init');\n",
              "      }\n",
              "      })();\n",
              "    </script>\n",
              "  </div>\n",
              "\n",
              "    </div>\n",
              "  </div>\n"
            ],
            "application/vnd.google.colaboratory.intrinsic+json": {
              "type": "dataframe",
              "variable_name": "data_init",
              "summary": "{\n  \"name\": \"data_init\",\n  \"rows\": 193,\n  \"fields\": [\n    {\n      \"column\": \"ID\",\n      \"properties\": {\n        \"dtype\": \"string\",\n        \"num_unique_values\": 193,\n        \"samples\": [\n          \"BXON04DtguY\",\n          \"bcQu8zXPh-w\",\n          \"tXHhgLkBml4\"\n        ],\n        \"semantic_type\": \"\",\n        \"description\": \"\"\n      }\n    },\n    {\n      \"column\": \"Video Title\",\n      \"properties\": {\n        \"dtype\": \"string\",\n        \"num_unique_values\": 192,\n        \"samples\": [\n          \"Minecraft, But Upside Down\",\n          \"I Got Hunted By 1000 Chickens!\",\n          \"Jhay Cortez, Anuel AA - Ley Seca (Official Video)\"\n        ],\n        \"semantic_type\": \"\",\n        \"description\": \"\"\n      }\n    },\n    {\n      \"column\": \"Views\",\n      \"properties\": {\n        \"dtype\": \"number\",\n        \"std\": 26654519,\n        \"min\": 3150,\n        \"max\": 282758915,\n        \"num_unique_values\": 193,\n        \"samples\": [\n          667069,\n          2569670,\n          4191598\n        ],\n        \"semantic_type\": \"\",\n        \"description\": \"\"\n      }\n    },\n    {\n      \"column\": \"Likes\",\n      \"properties\": {\n        \"dtype\": \"number\",\n        \"std\": 475474,\n        \"min\": 57,\n        \"max\": 3438692,\n        \"num_unique_values\": 193,\n        \"samples\": [\n          48756,\n          428488,\n          202802\n        ],\n        \"semantic_type\": \"\",\n        \"description\": \"\"\n      }\n    },\n    {\n      \"column\": \"Dislikes\",\n      \"properties\": {\n        \"dtype\": \"number\",\n        \"std\": 39951,\n        \"min\": 15,\n        \"max\": 321574,\n        \"num_unique_values\": 189,\n        \"samples\": [\n          9096,\n          191,\n          107\n        ],\n        \"semantic_type\": \"\",\n        \"description\": \"\"\n      }\n    },\n    {\n      \"column\": \"Clickbait\",\n      \"properties\": {\n        \"dtype\": \"number\",\n        \"std\": 0,\n        \"min\": 0,\n        \"max\": 1,\n        \"num_unique_values\": 2,\n        \"samples\": [\n          0,\n          1\n        ],\n        \"semantic_type\": \"\",\n        \"description\": \"\"\n      }\n    },\n    {\n      \"column\": \"Transcript\",\n      \"properties\": {\n        \"dtype\": \"string\",\n        \"num_unique_values\": 132,\n        \"samples\": [\n          \"Jimmy's experience of spending 50 hours in solitary confinement, where he endures various forms of torture and pranks orchestrated by his friends.\",\n          \"Testing various Minecraft myths, confirming some, like climbing powdered snow with leather boots and creating infinite lightning with tridents and pistons, while debunking others, such as goats headbutting armor stands. It explores unconventional techniques like using candles to reveal diamonds and smelting wet sponges into water buckets, showcasing surprising interactions within the game mechanics.\"\n        ],\n        \"semantic_type\": \"\",\n        \"description\": \"\"\n      }\n    }\n  ]\n}"
            }
          },
          "metadata": {},
          "execution_count": 68
        }
      ]
    },
    {
      "cell_type": "code",
      "source": [
        "data.insert(7, 'Predicted_Title', np.NaN, allow_duplicates=True)\n",
        "data.insert(8, 'Direct_Prediction', np.NaN, allow_duplicates=True)\n",
        "data.insert(9, 'Similarity_Score', np.NaN, allow_duplicates=True)"
      ],
      "metadata": {
        "id": "mHNiRIdm1nwB"
      },
      "execution_count": null,
      "outputs": []
    },
    {
      "cell_type": "code",
      "source": [
        "# BE VERY CAREFUL WHEN RUNNING THIS. WILL COST YOU API USAGE.\n",
        "\n",
        "for i in range(len(data)):\n",
        "  # data['Direct_Prediction'].iloc[i] = Direct_Clickbait_Detection(data['Video Title'].iloc[i], data['Transcript'].iloc[i])\n",
        "  # data['Predicted_Title'].iloc[i] = Title_Predictor(data['Transcript'].iloc[i])\n",
        "  # data['Similarity_Score'].iloc[i] = Sentence_Similarity(data['Video Title'].iloc[i], data['Predicted_Title'].iloc[i])"
      ],
      "metadata": {
        "colab": {
          "base_uri": "https://localhost:8080/"
        },
        "id": "ooYw0WWh3J_B",
        "outputId": "b731b123-0153-4956-84dd-2f28f46c3cfb"
      },
      "execution_count": null,
      "outputs": [
        {
          "output_type": "stream",
          "name": "stderr",
          "text": [
            "<ipython-input-99-dba74574a832>:6: SettingWithCopyWarning: \n",
            "A value is trying to be set on a copy of a slice from a DataFrame\n",
            "\n",
            "See the caveats in the documentation: https://pandas.pydata.org/pandas-docs/stable/user_guide/indexing.html#returning-a-view-versus-a-copy\n",
            "  data['Similarity_Score'].iloc[i] = Sentence_Similarity(data['Video Title'].iloc[i], data['Predicted_Title'].iloc[i])\n"
          ]
        }
      ]
    },
    {
      "cell_type": "code",
      "source": [
        "# Save dataset to prevent reusing OpenAI API\n",
        "\n",
        "# data.to_csv('Sample.csv')"
      ],
      "metadata": {
        "id": "I6UJN-lq2hjx"
      },
      "execution_count": null,
      "outputs": []
    },
    {
      "cell_type": "code",
      "source": [
        "# Use prepared data\n",
        "\n",
        "data = pd.read_csv('Sample.csv')"
      ],
      "metadata": {
        "id": "qfBafIvprQ6H"
      },
      "execution_count": 9,
      "outputs": []
    },
    {
      "cell_type": "code",
      "source": [
        "encoder = preprocessing.LabelEncoder()\n",
        "data['Direct_Prediction'] = encoder.fit_transform(data['Direct_Prediction'])\n",
        "\n",
        "data['Similarity_Score'] = data['Similarity_Score'].apply(lambda x: int(x.replace('%',''))/100)"
      ],
      "metadata": {
        "id": "4aNi2dAgO5sp"
      },
      "execution_count": 10,
      "outputs": []
    },
    {
      "cell_type": "code",
      "source": [
        "X1 = data[[\"Views\", \"Likes\", \"Dislikes\"]]\n",
        "Y = data[\"Clickbait\"]\n",
        "\n",
        "X2 = data[[\"Views\", \"Likes\", \"Dislikes\", \"Direct_Prediction\"]]\n",
        "X3 = data[[\"Views\", \"Likes\", \"Dislikes\", \"Similarity_Score\"]]\n",
        "X4 = data[[\"Views\", \"Likes\", \"Dislikes\", \"Direct_Prediction\", \"Similarity_Score\"]]\n",
        "\n",
        "X1Train, X1Test, Y1Train, Y1Test = train_test_split(X1, Y, test_size=0.3, random_state=4)\n",
        "X2Train, X2Test, Y2Train, Y2Test = train_test_split(X2, Y, test_size=0.3, random_state=4)\n",
        "X3Train, X3Test, Y3Train, Y3Test = train_test_split(X3, Y, test_size=0.3, random_state=4)\n",
        "X4Train, X4Test, Y4Train, Y4Test = train_test_split(X4, Y, test_size=0.3, random_state=4)"
      ],
      "metadata": {
        "id": "gqrJvA_DbiqG"
      },
      "execution_count": 11,
      "outputs": []
    },
    {
      "cell_type": "markdown",
      "source": [
        "# Random Forest\n"
      ],
      "metadata": {
        "id": "7pqWUaC9aE9b"
      }
    },
    {
      "cell_type": "code",
      "source": [
        "# Save and Load Model\n",
        "# Save\n",
        "# with open('model.pkl','wb') as f:\n",
        "#     pickle.dump(Model,f)\n",
        "\n",
        "# Load\n",
        "# with open('model.pkl', 'rb') as f:\n",
        "#     Model = pickle.load(f)"
      ],
      "metadata": {
        "id": "erqXzzmCiHPJ"
      },
      "execution_count": null,
      "outputs": []
    },
    {
      "cell_type": "code",
      "source": [
        "# Random Forest is just strictly better. Ignore LGR and GNB.\n",
        "# Very prone to overfitting\n",
        "\n",
        "parameters = {\n",
        "    # 'n_estimators' : (60, 70, 80, 90, 100),\n",
        "    # 'criterion' : ('gini', 'entropy', 'log_loss'),\n",
        "    # 'max_depth' : (10, 20, 30, 40, 50, 60, 70, 80, 90, 100),\n",
        "    # 'max_features' : ('auto', 'sqrt', 'log2', None),\n",
        "    # 'max_leaf_nodes' : (10, 20, 30, 40, 50)\n",
        "    }\n",
        "\n",
        "\n",
        "RF1 = RandomForestClassifier()\n",
        "RF2 = RandomForestClassifier()\n",
        "RF3 = RandomForestClassifier()\n",
        "RF4 = RandomForestClassifier()\n",
        "\n",
        "Model1 = RF1.fit(X1Train, Y1Train)\n",
        "Model2 = RF2.fit(X2Train, Y2Train)\n",
        "Model3 = RF3.fit(X3Train, Y3Train)\n",
        "Model4 = RF4.fit(X4Train, Y4Train)"
      ],
      "metadata": {
        "id": "Oq1ZO8dGaKtC"
      },
      "execution_count": null,
      "outputs": []
    },
    {
      "cell_type": "code",
      "source": [
        "# Model1 = RF.fit(X1Train, Y1Train)\n",
        "print(\"Model1 Train Accuracy : \", accuracy_score(Y1Train, Model1.predict(X1Train)))\n",
        "print(\"Model1 Test Accuracy : \\n\", classification_report(Y1Test, Model1.predict(X1Test)))\n",
        "sb.heatmap(confusion_matrix(Y1Test, Model1.predict(X1Test)), annot=True)"
      ],
      "metadata": {
        "colab": {
          "base_uri": "https://localhost:8080/",
          "height": 638
        },
        "id": "ZxnGqlIsyePg",
        "outputId": "f5d1d84b-656e-4463-b978-b35ca34d4d43"
      },
      "execution_count": null,
      "outputs": [
        {
          "output_type": "stream",
          "name": "stdout",
          "text": [
            "Model1 Train Accuracy :  1.0\n",
            "Model1 Test Accuracy : \n",
            "               precision    recall  f1-score   support\n",
            "\n",
            "           0       0.88      0.81      0.84        26\n",
            "           1       0.67      0.77      0.71        13\n",
            "\n",
            "    accuracy                           0.79        39\n",
            "   macro avg       0.77      0.79      0.78        39\n",
            "weighted avg       0.81      0.79      0.80        39\n",
            "\n"
          ]
        },
        {
          "output_type": "execute_result",
          "data": {
            "text/plain": [
              "<Axes: >"
            ]
          },
          "metadata": {},
          "execution_count": 38
        },
        {
          "output_type": "display_data",
          "data": {
            "text/plain": [
              "<Figure size 640x480 with 2 Axes>"
            ],
            "image/png": "[encoded data removed]"
          },
          "metadata": {}
        }
      ]
    },
    {
      "cell_type": "code",
      "source": [
        "# Model2 = RF.fit(X2Train, Y2Train)\n",
        "print(\"Model2 Train Accuracy : \", accuracy_score(Y2Train, Model2.predict(X2Train)))\n",
        "print(\"Model2 Test Accuracy : \\n\", classification_report(Y2Test, Model2.predict(X2Test)))\n",
        "sb.heatmap(confusion_matrix(Y2Test, Model2.predict(X2Test)), annot=True)"
      ],
      "metadata": {
        "colab": {
          "base_uri": "https://localhost:8080/",
          "height": 638
        },
        "id": "Wg-7Id1aylXM",
        "outputId": "3b947c73-513d-4079-fd1e-413c3df47bea"
      },
      "execution_count": null,
      "outputs": [
        {
          "output_type": "stream",
          "name": "stdout",
          "text": [
            "Model2 Train Accuracy :  1.0\n",
            "Model2 Test Accuracy : \n",
            "               precision    recall  f1-score   support\n",
            "\n",
            "           0       0.88      0.88      0.88        26\n",
            "           1       0.77      0.77      0.77        13\n",
            "\n",
            "    accuracy                           0.85        39\n",
            "   macro avg       0.83      0.83      0.83        39\n",
            "weighted avg       0.85      0.85      0.85        39\n",
            "\n"
          ]
        },
        {
          "output_type": "execute_result",
          "data": {
            "text/plain": [
              "<Axes: >"
            ]
          },
          "metadata": {},
          "execution_count": 43
        },
        {
          "output_type": "display_data",
          "data": {
            "text/plain": [
              "<Figure size 640x480 with 2 Axes>"
            ],
            "image/png": "[encoded data removed]"
          },
          "metadata": {}
        }
      ]
    },
    {
      "cell_type": "code",
      "source": [
        "# Model3 = RF.fit(X3Train, Y3Train)\n",
        "print(\"Model3 Train Accuracy : \", accuracy_score(Y3Train, Model3.predict(X3Train)))\n",
        "print(\"Model3 Test Accuracy : \\n\", classification_report(Y3Test, Model3.predict(X3Test)))\n",
        "sb.heatmap(confusion_matrix(Y3Test, Model3.predict(X3Test)), annot=True)"
      ],
      "metadata": {
        "colab": {
          "base_uri": "https://localhost:8080/",
          "height": 638
        },
        "id": "Xhw5dqMEzEcf",
        "outputId": "28bf816b-f749-458a-be36-627375f56c57"
      },
      "execution_count": null,
      "outputs": [
        {
          "output_type": "stream",
          "name": "stdout",
          "text": [
            "Model3 Train Accuracy :  1.0\n",
            "Model3 Test Accuracy : \n",
            "               precision    recall  f1-score   support\n",
            "\n",
            "           0       0.91      0.81      0.86        26\n",
            "           1       0.69      0.85      0.76        13\n",
            "\n",
            "    accuracy                           0.82        39\n",
            "   macro avg       0.80      0.83      0.81        39\n",
            "weighted avg       0.84      0.82      0.82        39\n",
            "\n"
          ]
        },
        {
          "output_type": "execute_result",
          "data": {
            "text/plain": [
              "<Axes: >"
            ]
          },
          "metadata": {},
          "execution_count": 40
        },
        {
          "output_type": "display_data",
          "data": {
            "text/plain": [
              "<Figure size 640x480 with 2 Axes>"
            ],
            "image/png": "[encoded data removed]"
          },
          "metadata": {}
        }
      ]
    },
    {
      "cell_type": "code",
      "source": [
        "# Model4 = RF.fit(X4Train, Y4Train)\n",
        "print(\"Model4 Train Accuracy : \", accuracy_score(Y4Train, Model4.predict(X4Train)))\n",
        "print(\"Model4 Test Accuracy : \\n\", classification_report(Y4Test, Model4.predict(X4Test)))\n",
        "sb.heatmap(confusion_matrix(Y4Test, Model4.predict(X4Test)), annot=True)"
      ],
      "metadata": {
        "colab": {
          "base_uri": "https://localhost:8080/",
          "height": 638
        },
        "id": "qngKeUhyxDmF",
        "outputId": "98dbedd1-188f-4efa-a027-72b9f539ae1a"
      },
      "execution_count": null,
      "outputs": [
        {
          "output_type": "stream",
          "name": "stdout",
          "text": [
            "Model4 Train Accuracy :  1.0\n",
            "Model4 Test Accuracy : \n",
            "               precision    recall  f1-score   support\n",
            "\n",
            "           0       0.92      0.88      0.90        26\n",
            "           1       0.79      0.85      0.81        13\n",
            "\n",
            "    accuracy                           0.87        39\n",
            "   macro avg       0.85      0.87      0.86        39\n",
            "weighted avg       0.88      0.87      0.87        39\n",
            "\n"
          ]
        },
        {
          "output_type": "execute_result",
          "data": {
            "text/plain": [
              "<Axes: >"
            ]
          },
          "metadata": {},
          "execution_count": 41
        },
        {
          "output_type": "display_data",
          "data": {
            "text/plain": [
              "<Figure size 640x480 with 2 Axes>"
            ],
            "image/png": "[encoded data removed]"
          },
          "metadata": {}
        }
      ]
    },
    {
      "cell_type": "code",
      "source": [
        "# Model 5\n",
        "print(\"Model5 Accuracy :\\n\", classification_report(data['Clickbait'], data['Direct_Prediction']))\n",
        "sb.heatmap(confusion_matrix(data['Clickbait'], data['Direct_Prediction']), annot=True)"
      ],
      "metadata": {
        "colab": {
          "base_uri": "https://localhost:8080/",
          "height": 626
        },
        "id": "LKgCIncd7KHF",
        "outputId": "54e1113f-1ec9-43fe-d844-6e64c1712636"
      },
      "execution_count": null,
      "outputs": [
        {
          "output_type": "stream",
          "name": "stdout",
          "text": [
            "Model5 Accuracy :\n",
            "               precision    recall  f1-score   support\n",
            "\n",
            "           0       0.83      0.23      0.36        66\n",
            "           1       0.54      0.95      0.69        63\n",
            "\n",
            "    accuracy                           0.58       129\n",
            "   macro avg       0.69      0.59      0.52       129\n",
            "weighted avg       0.69      0.58      0.52       129\n",
            "\n"
          ]
        },
        {
          "output_type": "execute_result",
          "data": {
            "text/plain": [
              "<Axes: >"
            ]
          },
          "metadata": {},
          "execution_count": 36
        },
        {
          "output_type": "display_data",
          "data": {
            "text/plain": [
              "<Figure size 640x480 with 2 Axes>"
            ],
            "image/png": "[encoded data removed]"
          },
          "metadata": {}
        }
      ]
    },
    {
      "cell_type": "code",
      "source": [
        "# RFTest = Model.predict(XTest)\n",
        "# RFTrain = Model.predict(XTrain)\n",
        "\n",
        "\n",
        "# print(\"Test Accuracy : \", accuracy_score(YTest, RFTest))\n",
        "print(\"Train Accuracy : \", accuracy_score(data['Clickbait'], data['Direct_Prediction']))\n",
        "# print(Model.best_params_)\n",
        "# print(Model.best_estimator_)"
      ],
      "metadata": {
        "colab": {
          "base_uri": "https://localhost:8080/"
        },
        "id": "Q_jX1_X6Shta",
        "outputId": "475d7dfd-0eb3-4394-cd80-5f9ebf1c0eee"
      },
      "execution_count": null,
      "outputs": [
        {
          "output_type": "stream",
          "name": "stdout",
          "text": [
            "Train Accuracy :  0.5813953488372093\n"
          ]
        }
      ]
    },
    {
      "cell_type": "markdown",
      "source": [
        "# Logistic Regression\n"
      ],
      "metadata": {
        "id": "SEwXvzQGcrMz"
      }
    },
    {
      "cell_type": "code",
      "source": [
        "LGR = LogisticRegression().fit(X4Train, Y4Train)\n",
        "LGRTest = LGR.predict(X4Test)\n",
        "LGRTrain = LGR.predict(X4Train)"
      ],
      "metadata": {
        "id": "yhamk80Ecs67",
        "collapsed": true
      },
      "execution_count": null,
      "outputs": []
    },
    {
      "cell_type": "code",
      "source": [
        "print(\"Train Accuracy : \", accuracy_score(Y4Train, LGRTrain))\n",
        "print(\"Test Accuracy :\\n\", classification_report(Y4Test, LGRTest))\n",
        "sb.heatmap(confusion_matrix(Y4Test, LGRTest), annot=True)"
      ],
      "metadata": {
        "colab": {
          "base_uri": "https://localhost:8080/",
          "height": 643
        },
        "id": "IgOcAsXxie3i",
        "outputId": "5e6bb3ba-bbe9-43cc-869f-b6e74d207b21"
      },
      "execution_count": 59,
      "outputs": [
        {
          "output_type": "stream",
          "name": "stdout",
          "text": [
            "Train Accuracy :  0.6666666666666666\n",
            "Test Accuracy :\n",
            "               precision    recall  f1-score   support\n",
            "\n",
            "           0       0.94      0.62      0.74        26\n",
            "           1       0.55      0.92      0.69        13\n",
            "\n",
            "    accuracy                           0.72        39\n",
            "   macro avg       0.74      0.77      0.71        39\n",
            "weighted avg       0.81      0.72      0.72        39\n",
            "\n"
          ]
        },
        {
          "output_type": "execute_result",
          "data": {
            "text/plain": [
              "<Axes: >"
            ]
          },
          "metadata": {},
          "execution_count": 59
        },
        {
          "output_type": "display_data",
          "data": {
            "text/plain": [
              "<Figure size 640x480 with 2 Axes>"
            ],
            "image/png": "[encoded data removed]"
          },
          "metadata": {}
        }
      ]
    },
    {
      "cell_type": "markdown",
      "source": [
        "# Gaussian Naive Bayes"
      ],
      "metadata": {
        "id": "cj6TipQodF2U"
      }
    },
    {
      "cell_type": "code",
      "source": [
        "GNB = GaussianNB().fit(X4Train, Y4Train)\n",
        "GNBTest = GNB.predict(X4Test)\n",
        "GNBTrain = GNB.predict(X4Train)\n"
      ],
      "metadata": {
        "id": "fYfnUG5DdH7B"
      },
      "execution_count": 58,
      "outputs": []
    },
    {
      "cell_type": "code",
      "source": [
        "print(\"Test Accuracy : \", accuracy_score(Y4Test, GNBTest))\n",
        "print(\"Test Accuracy :\\n\", classification_report(Y4Test, GNBTest))\n",
        "sb.heatmap(confusion_matrix(Y4Test, GNBTest), annot=True)"
      ],
      "metadata": {
        "colab": {
          "base_uri": "https://localhost:8080/",
          "height": 643
        },
        "id": "w72l3kZSii7Z",
        "outputId": "62cd46bf-8778-4c56-a7ab-dd2ee4333e6d"
      },
      "execution_count": 60,
      "outputs": [
        {
          "output_type": "stream",
          "name": "stdout",
          "text": [
            "Test Accuracy :  0.717948717948718\n",
            "Test Accuracy :\n",
            "               precision    recall  f1-score   support\n",
            "\n",
            "           0       0.71      0.96      0.82        26\n",
            "           1       0.75      0.23      0.35        13\n",
            "\n",
            "    accuracy                           0.72        39\n",
            "   macro avg       0.73      0.60      0.59        39\n",
            "weighted avg       0.73      0.72      0.66        39\n",
            "\n"
          ]
        },
        {
          "output_type": "execute_result",
          "data": {
            "text/plain": [
              "<Axes: >"
            ]
          },
          "metadata": {},
          "execution_count": 60
        },
        {
          "output_type": "display_data",
          "data": {
            "text/plain": [
              "<Figure size 640x480 with 2 Axes>"
            ],
            "image/png": "[encoded data removed]"
          },
          "metadata": {}
        }
      ]
    },
    {
      "cell_type": "markdown",
      "source": [
        "# Neural Network"
      ],
      "metadata": {
        "id": "lE-BbbxfYJIQ"
      }
    },
    {
      "cell_type": "code",
      "source": [
        "base_model = Sequential(\n",
        "    [\n",
        "        keras.layers.Dense(256, activation='relu'),\n",
        "        keras.layers.Dense(128, activation='relu'),\n",
        "        keras.layers.Dense(64, activation='relu'),\n",
        "        keras.layers.Dense(1, activation='sigmoid')\n",
        "    ]\n",
        ")\n",
        "\n",
        "optim = Adam(learning_rate=0.01)\n",
        "base_model.compile(optimizer=optim, loss='binary_crossentropy', metrics=['accuracy'])"
      ],
      "metadata": {
        "id": "SdirxR9NYLMf"
      },
      "execution_count": 48,
      "outputs": []
    },
    {
      "cell_type": "code",
      "source": [
        "base_model.summary()"
      ],
      "metadata": {
        "colab": {
          "base_uri": "https://localhost:8080/"
        },
        "id": "1sD0MFyacYyp",
        "outputId": "5faf63b5-9fd4-464a-9ba5-9ab2756a8040"
      },
      "execution_count": 37,
      "outputs": [
        {
          "output_type": "stream",
          "name": "stdout",
          "text": [
            "Model: \"sequential_9\"\n",
            "_________________________________________________________________\n",
            " Layer (type)                Output Shape              Param #   \n",
            "=================================================================\n",
            " dense_18 (Dense)            (None, 256)               1536      \n",
            "                                                                 \n",
            " dense_19 (Dense)            (None, 128)               32896     \n",
            "                                                                 \n",
            " dense_20 (Dense)            (None, 64)                8256      \n",
            "                                                                 \n",
            " dense_21 (Dense)            (None, 2)                 130       \n",
            "                                                                 \n",
            "=================================================================\n",
            "Total params: 42818 (167.26 KB)\n",
            "Trainable params: 42818 (167.26 KB)\n",
            "Non-trainable params: 0 (0.00 Byte)\n",
            "_________________________________________________________________\n"
          ]
        }
      ]
    },
    {
      "cell_type": "code",
      "source": [
        "Y4Test.shape"
      ],
      "metadata": {
        "colab": {
          "base_uri": "https://localhost:8080/"
        },
        "id": "blQn6wnseRrg",
        "outputId": "793b11c4-a081-4d02-edee-1e5d96cba618"
      },
      "execution_count": 36,
      "outputs": [
        {
          "output_type": "execute_result",
          "data": {
            "text/plain": [
              "(39,)"
            ]
          },
          "metadata": {},
          "execution_count": 36
        }
      ]
    },
    {
      "cell_type": "code",
      "source": [
        "mlphist = base_model.fit(X4Train, Y4Train, epochs = 100, verbose=1)"
      ],
      "metadata": {
        "colab": {
          "base_uri": "https://localhost:8080/"
        },
        "collapsed": true,
        "id": "VbrV_02ucajv",
        "outputId": "5b4c52fa-a155-4b87-b829-c65d2257e7e8"
      },
      "execution_count": 49,
      "outputs": [
        {
          "output_type": "stream",
          "name": "stdout",
          "text": [
            "Epoch 1/100\n",
            "3/3 [==============================] - 1s 6ms/step - loss: 770935.3125 - accuracy: 0.4889\n",
            "Epoch 2/100\n",
            "3/3 [==============================] - 0s 6ms/step - loss: 896785.1250 - accuracy: 0.5556\n",
            "Epoch 3/100\n",
            "3/3 [==============================] - 0s 6ms/step - loss: 721961.4375 - accuracy: 0.5556\n",
            "Epoch 4/100\n",
            "3/3 [==============================] - 0s 8ms/step - loss: 64506.1211 - accuracy: 0.4889\n",
            "Epoch 5/100\n",
            "3/3 [==============================] - 0s 5ms/step - loss: 164051.9531 - accuracy: 0.5556\n",
            "Epoch 6/100\n",
            "3/3 [==============================] - 0s 6ms/step - loss: 188804.1562 - accuracy: 0.5556\n",
            "Epoch 7/100\n",
            "3/3 [==============================] - 0s 5ms/step - loss: 45508.4062 - accuracy: 0.4889\n",
            "Epoch 8/100\n",
            "3/3 [==============================] - 0s 6ms/step - loss: 219230.5312 - accuracy: 0.5556\n",
            "Epoch 9/100\n",
            "3/3 [==============================] - 0s 5ms/step - loss: 213368.4375 - accuracy: 0.5556\n",
            "Epoch 10/100\n",
            "3/3 [==============================] - 0s 6ms/step - loss: 86568.6875 - accuracy: 0.5556\n",
            "Epoch 11/100\n",
            "3/3 [==============================] - 0s 6ms/step - loss: 104092.2969 - accuracy: 0.5111\n",
            "Epoch 12/100\n",
            "3/3 [==============================] - 0s 7ms/step - loss: 29147.0332 - accuracy: 0.5333\n",
            "Epoch 13/100\n",
            "3/3 [==============================] - 0s 6ms/step - loss: 30890.5703 - accuracy: 0.4667\n",
            "Epoch 14/100\n",
            "3/3 [==============================] - 0s 6ms/step - loss: 29718.0137 - accuracy: 0.5556\n",
            "Epoch 15/100\n",
            "3/3 [==============================] - 0s 5ms/step - loss: 33133.0469 - accuracy: 0.5556\n",
            "Epoch 16/100\n",
            "3/3 [==============================] - 0s 7ms/step - loss: 40268.3164 - accuracy: 0.4000\n",
            "Epoch 17/100\n",
            "3/3 [==============================] - 0s 6ms/step - loss: 36172.2852 - accuracy: 0.5556\n",
            "Epoch 18/100\n",
            "3/3 [==============================] - 0s 7ms/step - loss: 40761.0547 - accuracy: 0.5556\n",
            "Epoch 19/100\n",
            "3/3 [==============================] - 0s 7ms/step - loss: 3653.2163 - accuracy: 0.5778\n",
            "Epoch 20/100\n",
            "3/3 [==============================] - 0s 5ms/step - loss: 8816.9062 - accuracy: 0.6000\n",
            "Epoch 21/100\n",
            "3/3 [==============================] - 0s 5ms/step - loss: 6119.4585 - accuracy: 0.6556\n",
            "Epoch 22/100\n",
            "3/3 [==============================] - 0s 5ms/step - loss: 12605.0225 - accuracy: 0.5778\n",
            "Epoch 23/100\n",
            "3/3 [==============================] - 0s 5ms/step - loss: 20993.6641 - accuracy: 0.5667\n",
            "Epoch 24/100\n",
            "3/3 [==============================] - 0s 8ms/step - loss: 18260.2949 - accuracy: 0.5556\n",
            "Epoch 25/100\n",
            "3/3 [==============================] - 0s 9ms/step - loss: 4834.6411 - accuracy: 0.5222\n",
            "Epoch 26/100\n",
            "3/3 [==============================] - 0s 7ms/step - loss: 9551.5225 - accuracy: 0.6111\n",
            "Epoch 27/100\n",
            "3/3 [==============================] - 0s 6ms/step - loss: 9735.2080 - accuracy: 0.6000\n",
            "Epoch 28/100\n",
            "3/3 [==============================] - 0s 7ms/step - loss: 9070.3945 - accuracy: 0.5111\n",
            "Epoch 29/100\n",
            "3/3 [==============================] - 0s 7ms/step - loss: 4059.5386 - accuracy: 0.6111\n",
            "Epoch 30/100\n",
            "3/3 [==============================] - 0s 7ms/step - loss: 3800.3396 - accuracy: 0.5111\n",
            "Epoch 31/100\n",
            "3/3 [==============================] - 0s 9ms/step - loss: 1692.4248 - accuracy: 0.6333\n",
            "Epoch 32/100\n",
            "3/3 [==============================] - 0s 7ms/step - loss: 1377.9387 - accuracy: 0.7000\n",
            "Epoch 33/100\n",
            "3/3 [==============================] - 0s 6ms/step - loss: 1408.9200 - accuracy: 0.6222\n",
            "Epoch 34/100\n",
            "3/3 [==============================] - 0s 7ms/step - loss: 532.3021 - accuracy: 0.5889\n",
            "Epoch 35/100\n",
            "3/3 [==============================] - 0s 8ms/step - loss: 4151.6626 - accuracy: 0.5889\n",
            "Epoch 36/100\n",
            "3/3 [==============================] - 0s 7ms/step - loss: 2084.3923 - accuracy: 0.5778\n",
            "Epoch 37/100\n",
            "3/3 [==============================] - 0s 6ms/step - loss: 897.2498 - accuracy: 0.6889\n",
            "Epoch 38/100\n",
            "3/3 [==============================] - 0s 7ms/step - loss: 1317.1931 - accuracy: 0.6667\n",
            "Epoch 39/100\n",
            "3/3 [==============================] - 0s 6ms/step - loss: 586.4498 - accuracy: 0.6222\n",
            "Epoch 40/100\n",
            "3/3 [==============================] - 0s 6ms/step - loss: 5313.9727 - accuracy: 0.5556\n",
            "Epoch 41/100\n",
            "3/3 [==============================] - 0s 8ms/step - loss: 4312.3667 - accuracy: 0.6667\n",
            "Epoch 42/100\n",
            "3/3 [==============================] - 0s 7ms/step - loss: 6435.1494 - accuracy: 0.4667\n",
            "Epoch 43/100\n",
            "3/3 [==============================] - 0s 7ms/step - loss: 8381.3213 - accuracy: 0.5556\n",
            "Epoch 44/100\n",
            "3/3 [==============================] - 0s 7ms/step - loss: 7805.2764 - accuracy: 0.5667\n",
            "Epoch 45/100\n",
            "3/3 [==============================] - 0s 8ms/step - loss: 2005.4464 - accuracy: 0.6444\n",
            "Epoch 46/100\n",
            "3/3 [==============================] - 0s 6ms/step - loss: 3256.6841 - accuracy: 0.6333\n",
            "Epoch 47/100\n",
            "3/3 [==============================] - 0s 7ms/step - loss: 4173.2578 - accuracy: 0.4667\n",
            "Epoch 48/100\n",
            "3/3 [==============================] - 0s 8ms/step - loss: 4054.9629 - accuracy: 0.5889\n",
            "Epoch 49/100\n",
            "3/3 [==============================] - 0s 8ms/step - loss: 2537.3760 - accuracy: 0.5889\n",
            "Epoch 50/100\n",
            "3/3 [==============================] - 0s 7ms/step - loss: 772.6900 - accuracy: 0.6778\n",
            "Epoch 51/100\n",
            "3/3 [==============================] - 0s 6ms/step - loss: 1442.3464 - accuracy: 0.4889\n",
            "Epoch 52/100\n",
            "3/3 [==============================] - 0s 7ms/step - loss: 1476.0564 - accuracy: 0.6444\n",
            "Epoch 53/100\n",
            "3/3 [==============================] - 0s 7ms/step - loss: 1503.1587 - accuracy: 0.5889\n",
            "Epoch 54/100\n",
            "3/3 [==============================] - 0s 9ms/step - loss: 453.0930 - accuracy: 0.6111\n",
            "Epoch 55/100\n",
            "3/3 [==============================] - 0s 8ms/step - loss: 1341.7844 - accuracy: 0.5333\n",
            "Epoch 56/100\n",
            "3/3 [==============================] - 0s 8ms/step - loss: 732.2046 - accuracy: 0.6222\n",
            "Epoch 57/100\n",
            "3/3 [==============================] - 0s 7ms/step - loss: 635.2705 - accuracy: 0.6889\n",
            "Epoch 58/100\n",
            "3/3 [==============================] - 0s 8ms/step - loss: 604.6589 - accuracy: 0.7000\n",
            "Epoch 59/100\n",
            "3/3 [==============================] - 0s 6ms/step - loss: 346.4475 - accuracy: 0.6889\n",
            "Epoch 60/100\n",
            "3/3 [==============================] - 0s 8ms/step - loss: 401.1597 - accuracy: 0.6444\n",
            "Epoch 61/100\n",
            "3/3 [==============================] - 0s 7ms/step - loss: 257.3308 - accuracy: 0.6333\n",
            "Epoch 62/100\n",
            "3/3 [==============================] - 0s 6ms/step - loss: 118.4898 - accuracy: 0.6667\n",
            "Epoch 63/100\n",
            "3/3 [==============================] - 0s 8ms/step - loss: 286.8152 - accuracy: 0.5667\n",
            "Epoch 64/100\n",
            "3/3 [==============================] - 0s 7ms/step - loss: 868.4108 - accuracy: 0.5333\n",
            "Epoch 65/100\n",
            "3/3 [==============================] - 0s 6ms/step - loss: 1023.3758 - accuracy: 0.5778\n",
            "Epoch 66/100\n",
            "3/3 [==============================] - 0s 7ms/step - loss: 316.7750 - accuracy: 0.5778\n",
            "Epoch 67/100\n",
            "3/3 [==============================] - 0s 10ms/step - loss: 1203.4244 - accuracy: 0.4111\n",
            "Epoch 68/100\n",
            "3/3 [==============================] - 0s 8ms/step - loss: 1778.8817 - accuracy: 0.5889\n",
            "Epoch 69/100\n",
            "3/3 [==============================] - 0s 6ms/step - loss: 649.3889 - accuracy: 0.6778\n",
            "Epoch 70/100\n",
            "3/3 [==============================] - 0s 7ms/step - loss: 312.0446 - accuracy: 0.6889\n",
            "Epoch 71/100\n",
            "3/3 [==============================] - 0s 6ms/step - loss: 492.2886 - accuracy: 0.6778\n",
            "Epoch 72/100\n",
            "3/3 [==============================] - 0s 6ms/step - loss: 231.7178 - accuracy: 0.5889\n",
            "Epoch 73/100\n",
            "3/3 [==============================] - 0s 7ms/step - loss: 887.9958 - accuracy: 0.5778\n",
            "Epoch 74/100\n",
            "3/3 [==============================] - 0s 7ms/step - loss: 741.4073 - accuracy: 0.6222\n",
            "Epoch 75/100\n",
            "3/3 [==============================] - 0s 7ms/step - loss: 208.2202 - accuracy: 0.6444\n",
            "Epoch 76/100\n",
            "3/3 [==============================] - 0s 7ms/step - loss: 859.6255 - accuracy: 0.5000\n",
            "Epoch 77/100\n",
            "3/3 [==============================] - 0s 7ms/step - loss: 534.4736 - accuracy: 0.5889\n",
            "Epoch 78/100\n",
            "3/3 [==============================] - 0s 7ms/step - loss: 540.9915 - accuracy: 0.5889\n",
            "Epoch 79/100\n",
            "3/3 [==============================] - 0s 5ms/step - loss: 595.8416 - accuracy: 0.4889\n",
            "Epoch 80/100\n",
            "3/3 [==============================] - 0s 6ms/step - loss: 1079.9967 - accuracy: 0.5778\n",
            "Epoch 81/100\n",
            "3/3 [==============================] - 0s 5ms/step - loss: 921.1970 - accuracy: 0.5778\n",
            "Epoch 82/100\n",
            "3/3 [==============================] - 0s 7ms/step - loss: 567.0790 - accuracy: 0.6556\n",
            "Epoch 83/100\n",
            "3/3 [==============================] - 0s 5ms/step - loss: 709.8109 - accuracy: 0.6556\n",
            "Epoch 84/100\n",
            "3/3 [==============================] - 0s 6ms/step - loss: 345.7922 - accuracy: 0.6000\n",
            "Epoch 85/100\n",
            "3/3 [==============================] - 0s 6ms/step - loss: 159.7611 - accuracy: 0.6111\n",
            "Epoch 86/100\n",
            "3/3 [==============================] - 0s 7ms/step - loss: 31.6571 - accuracy: 0.6222\n",
            "Epoch 87/100\n",
            "3/3 [==============================] - 0s 6ms/step - loss: 202.1464 - accuracy: 0.5111\n",
            "Epoch 88/100\n",
            "3/3 [==============================] - 0s 5ms/step - loss: 18.7550 - accuracy: 0.6556\n",
            "Epoch 89/100\n",
            "3/3 [==============================] - 0s 5ms/step - loss: 189.3588 - accuracy: 0.4889\n",
            "Epoch 90/100\n",
            "3/3 [==============================] - 0s 6ms/step - loss: 27.4787 - accuracy: 0.5667\n",
            "Epoch 91/100\n",
            "3/3 [==============================] - 0s 5ms/step - loss: 83.8447 - accuracy: 0.5889\n",
            "Epoch 92/100\n",
            "3/3 [==============================] - 0s 5ms/step - loss: 89.6079 - accuracy: 0.5222\n",
            "Epoch 93/100\n",
            "3/3 [==============================] - 0s 8ms/step - loss: 51.1617 - accuracy: 0.6556\n",
            "Epoch 94/100\n",
            "3/3 [==============================] - 0s 5ms/step - loss: 94.1048 - accuracy: 0.5778\n",
            "Epoch 95/100\n",
            "3/3 [==============================] - 0s 6ms/step - loss: 48.4983 - accuracy: 0.6444\n",
            "Epoch 96/100\n",
            "3/3 [==============================] - 0s 5ms/step - loss: 23.9956 - accuracy: 0.5333\n",
            "Epoch 97/100\n",
            "3/3 [==============================] - 0s 5ms/step - loss: 144.6405 - accuracy: 0.5444\n",
            "Epoch 98/100\n",
            "3/3 [==============================] - 0s 7ms/step - loss: 93.5378 - accuracy: 0.5556\n",
            "Epoch 99/100\n",
            "3/3 [==============================] - 0s 5ms/step - loss: 28.6133 - accuracy: 0.6111\n",
            "Epoch 100/100\n",
            "3/3 [==============================] - 0s 7ms/step - loss: 171.0333 - accuracy: 0.5444\n"
          ]
        }
      ]
    },
    {
      "cell_type": "code",
      "source": [
        "base_mlp = base_model.predict(X4Test)\n",
        "\n",
        "\n",
        "for i in range(len(base_mlp)):\n",
        "  if base_mlp[i] >= 0.8:\n",
        "    base_mlp[i] = 1\n",
        "  else:\n",
        "    base_mlp[i] = 0"
      ],
      "metadata": {
        "colab": {
          "base_uri": "https://localhost:8080/"
        },
        "id": "Y_H9nVqkekFi",
        "outputId": "57b51e8f-a344-4aaa-93e0-65f201f9f1ab"
      },
      "execution_count": 52,
      "outputs": [
        {
          "output_type": "stream",
          "name": "stdout",
          "text": [
            "2/2 [==============================] - 0s 10ms/step\n"
          ]
        },
        {
          "output_type": "execute_result",
          "data": {
            "text/plain": [
              "array([[0.],\n",
              "       [0.],\n",
              "       [1.],\n",
              "       [1.],\n",
              "       [0.],\n",
              "       [1.],\n",
              "       [0.],\n",
              "       [0.],\n",
              "       [0.],\n",
              "       [1.],\n",
              "       [0.],\n",
              "       [1.],\n",
              "       [0.],\n",
              "       [1.],\n",
              "       [0.],\n",
              "       [0.],\n",
              "       [1.],\n",
              "       [1.],\n",
              "       [0.],\n",
              "       [1.],\n",
              "       [0.],\n",
              "       [0.],\n",
              "       [0.],\n",
              "       [0.],\n",
              "       [0.],\n",
              "       [1.],\n",
              "       [0.],\n",
              "       [0.],\n",
              "       [1.],\n",
              "       [0.],\n",
              "       [0.],\n",
              "       [1.],\n",
              "       [0.],\n",
              "       [1.],\n",
              "       [1.],\n",
              "       [1.],\n",
              "       [1.],\n",
              "       [0.],\n",
              "       [1.]], dtype=float32)"
            ]
          },
          "metadata": {},
          "execution_count": 52
        }
      ]
    },
    {
      "cell_type": "code",
      "source": [
        "print(\"MLP Test Accuracy : \\n\", classification_report(Y1Test, base_mlp))\n",
        "sb.heatmap(confusion_matrix(Y4Test, base_mlp), annot=True)"
      ],
      "metadata": {
        "colab": {
          "base_uri": "https://localhost:8080/",
          "height": 621
        },
        "id": "3h46hoRsg2Qa",
        "outputId": "a31aed32-22f6-4345-dfb2-12a2de995894"
      },
      "execution_count": 61,
      "outputs": [
        {
          "output_type": "stream",
          "name": "stdout",
          "text": [
            "MLP Test Accuracy : \n",
            "               precision    recall  f1-score   support\n",
            "\n",
            "           0       0.77      0.65      0.71        26\n",
            "           1       0.47      0.62      0.53        13\n",
            "\n",
            "    accuracy                           0.64        39\n",
            "   macro avg       0.62      0.63      0.62        39\n",
            "weighted avg       0.67      0.64      0.65        39\n",
            "\n"
          ]
        },
        {
          "output_type": "execute_result",
          "data": {
            "text/plain": [
              "<Axes: >"
            ]
          },
          "metadata": {},
          "execution_count": 61
        },
        {
          "output_type": "display_data",
          "data": {
            "text/plain": [
              "<Figure size 640x480 with 2 Axes>"
            ],
            "image/png": "[encoded data removed]"
          },
          "metadata": {}
        }
      ]
    },
    {
      "cell_type": "markdown",
      "source": [
        "# Support Vector Machine"
      ],
      "metadata": {
        "id": "gbzZRHAvkVpU"
      }
    },
    {
      "cell_type": "code",
      "source": [
        "SVM = SVC().fit(X4Train, Y4Train)\n",
        "SVMTest = SVM.predict(X4Test)\n",
        "SVMTrain = SVM.predict(X4Train)"
      ],
      "metadata": {
        "id": "9l413V9hkY86"
      },
      "execution_count": 66,
      "outputs": []
    },
    {
      "cell_type": "code",
      "source": [
        "print(\"Train Accuracy : \", accuracy_score(Y4Train, SVMTrain))\n",
        "print(\"Test Accuracy :\\n\", classification_report(Y4Test, SVMTest))\n",
        "sb.heatmap(confusion_matrix(Y4Test, SVMTest), annot=True)"
      ],
      "metadata": {
        "colab": {
          "base_uri": "https://localhost:8080/",
          "height": 643
        },
        "id": "O5pvVw8Dki6x",
        "outputId": "2dbf6080-e850-458a-8c08-d8a55cf85e76"
      },
      "execution_count": 67,
      "outputs": [
        {
          "output_type": "stream",
          "name": "stdout",
          "text": [
            "Train Accuracy :  0.7444444444444445\n",
            "Test Accuracy :\n",
            "               precision    recall  f1-score   support\n",
            "\n",
            "           0       0.76      0.85      0.80        26\n",
            "           1       0.60      0.46      0.52        13\n",
            "\n",
            "    accuracy                           0.72        39\n",
            "   macro avg       0.68      0.65      0.66        39\n",
            "weighted avg       0.71      0.72      0.71        39\n",
            "\n"
          ]
        },
        {
          "output_type": "execute_result",
          "data": {
            "text/plain": [
              "<Axes: >"
            ]
          },
          "metadata": {},
          "execution_count": 67
        },
        {
          "output_type": "display_data",
          "data": {
            "text/plain": [
              "<Figure size 640x480 with 2 Axes>"
            ],
            "image/png": "[encoded data removed]"
          },
          "metadata": {}
        }
      ]
    }
  ]
}